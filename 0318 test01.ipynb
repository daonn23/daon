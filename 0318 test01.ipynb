{
 "cells": [
  {
   "cell_type": "code",
   "execution_count": null,
   "id": "3ff58872",
   "metadata": {},
   "outputs": [],
   "source": [
    "#3.11\n",
    "\n",
    "a,b,c = map(int,input(\"세 복권번호를 입력하시오: \").split())\n",
    "\n",
    "if a==2 and b==3 and c==9:\n",
    "    print(\"상금 1억 원 !!! \")\n",
    "elif a==2 and b==3 and c!=9:\n",
    "    print(\"상금 1천만 원\")\n",
    "elif a==2 and b!=3 and c==9:\n",
    "    print(\"상금 1천만 원\")\n",
    "elif a!=2 and b==3 and c==9:\n",
    "    print(\"상금 1천만 원\")\n",
    "elif a==2 and b!=3 and c!=9:\n",
    "    print(\"상금 1만 원\")\n",
    "elif a!=2 and b==3 and c!=9:\n",
    "    print(\"상금 1만 원\")\n",
    "elif a!=2 and b!=3 and c==9:\n",
    "    print(\"상금 1만 원\")\n",
    "else:\n",
    "    print(\"다음 기회에...\")"
   ]
  },
  {
   "cell_type": "code",
   "execution_count": null,
   "id": "ad0ab139",
   "metadata": {},
   "outputs": [],
   "source": [
    "#3.13\n",
    "\n",
    "x, y = map(int,input(\"점의 좌표 x, y를 입력하시오: \").split())\n",
    "\n",
    "z = ((x-3)**1/2 + (y-4)**1/2) **1/2\n",
    "\n",
    "if z > 10:\n",
    "    print(\"원의 외부에 있음\")\n",
    "else:\n",
    "    print(\"원의 내부에 있음\")"
   ]
  },
  {
   "cell_type": "code",
   "execution_count": null,
   "id": "cc622dff",
   "metadata": {},
   "outputs": [],
   "source": [
    "#3.15-1\n",
    "i = i+1\n",
    "\n",
    "for i in range(1,10):\n",
    "    total=2*i\n",
    "    print('2 *',i,'=',total)"
   ]
  },
  {
   "cell_type": "markdown",
   "id": "27c98556",
   "metadata": {},
   "source": []
  },
  {
   "cell_type": "code",
   "execution_count": null,
   "id": "972e332a",
   "metadata": {},
   "outputs": [],
   "source": [
    "#3.15-2\n",
    "\n",
    "i = 0\n",
    "\n",
    "while i < 10:\n",
    "    total=2*i\n",
    "    i += 1\n",
    "    print('2 *',i,'=',total)"
   ]
  },
  {
   "cell_type": "code",
   "execution_count": null,
   "id": "61021837",
   "metadata": {},
   "outputs": [],
   "source": []
  },
  {
   "cell_type": "code",
   "execution_count": null,
   "id": "e5e67cfe",
   "metadata": {},
   "outputs": [],
   "source": []
  }
 ],
 "metadata": {
  "kernelspec": {
   "display_name": "Python 3 (ipykernel)",
   "language": "python",
   "name": "python3"
  },
  "language_info": {
   "codemirror_mode": {
    "name": "ipython",
    "version": 3
   },
   "file_extension": ".py",
   "mimetype": "text/x-python",
   "name": "python",
   "nbconvert_exporter": "python",
   "pygments_lexer": "ipython3",
   "version": "3.9.13"
  }
 },
 "nbformat": 4,
 "nbformat_minor": 5
}
