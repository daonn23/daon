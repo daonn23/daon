{
 "cells": [
  {
   "cell_type": "code",
   "execution_count": null,
   "id": "19fd28be",
   "metadata": {},
   "outputs": [],
   "source": [
    "n = int(input('정수를 입력하세요: '))\n",
    "\n",
    "if 0<=n<=100 and n%2==0:\n",
    "    print('입력된 정수는 0에서 100의 범위 안에 있는 짝수인가요? True')\n",
    "else:\n",
    "    print('입력된 정수는 0에서 100의 범위 안에 있는 짝수인가요? False')"
   ]
  },
  {
   "cell_type": "code",
   "execution_count": null,
   "id": "c7a9c098",
   "metadata": {},
   "outputs": [],
   "source": [
    "n = int(input('정수를 입력하세요: '))\n",
    "\n",
    "#입력받은 정수를 2진수로 출력하고 이 값에 대한 비트단위 부정 값 출력\n",
    "\n",
    "#int(n)의 2진수 값: bin(n)\n",
    "\n",
    "int(n),'의 2진수 값: ',bin(n)\n"
   ]
  },
  {
   "cell_type": "code",
   "execution_count": null,
   "id": "16c869d1",
   "metadata": {},
   "outputs": [],
   "source": []
  },
  {
   "cell_type": "code",
   "execution_count": null,
   "id": "757bfba3",
   "metadata": {},
   "outputs": [],
   "source": []
  }
 ],
 "metadata": {
  "kernelspec": {
   "display_name": "Python 3 (ipykernel)",
   "language": "python",
   "name": "python3"
  },
  "language_info": {
   "codemirror_mode": {
    "name": "ipython",
    "version": 3
   },
   "file_extension": ".py",
   "mimetype": "text/x-python",
   "name": "python",
   "nbconvert_exporter": "python",
   "pygments_lexer": "ipython3",
   "version": "3.9.13"
  }
 },
 "nbformat": 4,
 "nbformat_minor": 5
}
