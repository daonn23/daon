{
 "cells": [
  {
   "cell_type": "code",
   "execution_count": null,
   "id": "11ef269e",
   "metadata": {},
   "outputs": [],
   "source": []
  },
  {
   "cell_type": "code",
   "execution_count": null,
   "id": "03702cf0",
   "metadata": {
    "scrolled": true
   },
   "outputs": [],
   "source": []
  },
  {
   "cell_type": "code",
   "execution_count": 6,
   "id": "c421c872",
   "metadata": {},
   "outputs": [],
   "source": [
    "#import pandas as pd\n",
    "\n",
    "#data=pd.read_excel(\"seaice_extent_month_20240329.xlsx\")\n",
    "#print(data)"
   ]
  },
  {
   "cell_type": "code",
   "execution_count": 9,
   "id": "3584f6b2",
   "metadata": {},
   "outputs": [
    {
     "name": "stdout",
     "output_type": "stream",
     "text": [
      "Package Version\r\n",
      "------- -------\r\n",
      "pip     24.0\r\n",
      "wheel   0.42.0\r\n"
     ]
    }
   ],
   "source": [
    "!pip3 list"
   ]
  },
  {
   "cell_type": "code",
   "execution_count": 12,
   "id": "6545fa0e",
   "metadata": {},
   "outputs": [
    {
     "ename": "SyntaxError",
     "evalue": "invalid syntax (4254203344.py, line 16)",
     "output_type": "error",
     "traceback": [
      "\u001b[0;36m  Cell \u001b[0;32mIn[12], line 16\u001b[0;36m\u001b[0m\n\u001b[0;31m    plt.plot(int(북극 해빙면적 평균(10^6km)),color='blue',marker='o',linestyle='solid')\u001b[0m\n\u001b[0m                    ^\u001b[0m\n\u001b[0;31mSyntaxError\u001b[0m\u001b[0;31m:\u001b[0m invalid syntax\n"
     ]
    }
   ],
   "source": [
    "import pandas as pd\n",
    "%matplotlib inline\n",
    "import matplotlib.pyplot as plt\n",
    "\n",
    "data=pd.read_csv('/Users/wone/Downloads/seaice_extent_month_20240329.csv',index_col=0)\n",
    "data.head()\n",
    "\n",
    "#plt.plot(data['날짜'],data['북극 해빙면적 평균(10^6km)'])\n",
    "#plt.show()\n",
    "\n",
    "#graph 틀 준비\n",
    "fig = plt.figure()\n",
    "ax = fig.add_subplot(1,1,1)\n",
    "\n",
    "#x축에 날짜, y축에 평균값을 넣은 그래프 만들기\n",
    "plt.plot(int(북극 해빙면적 평균(10^6km)),color='blue',marker='o',linestyle='solid')\n",
    "\n",
    "#제목 입력\n",
    "plt.title(\"북극 해빙면적 평균(10^6km)\")\n",
    "\n",
    "plt.show()"
   ]
  },
  {
   "cell_type": "code",
   "execution_count": null,
   "id": "60880288",
   "metadata": {},
   "outputs": [],
   "source": []
  },
  {
   "cell_type": "code",
   "execution_count": null,
   "id": "f53b0b15",
   "metadata": {},
   "outputs": [],
   "source": []
  }
 ],
 "metadata": {
  "kernelspec": {
   "display_name": "Python 3 (ipykernel)",
   "language": "python",
   "name": "python3"
  },
  "language_info": {
   "codemirror_mode": {
    "name": "ipython",
    "version": 3
   },
   "file_extension": ".py",
   "mimetype": "text/x-python",
   "name": "python",
   "nbconvert_exporter": "python",
   "pygments_lexer": "ipython3",
   "version": "3.9.13"
  }
 },
 "nbformat": 4,
 "nbformat_minor": 5
}
