{
 "cells": [
  {
   "cell_type": "code",
   "execution_count": 13,
   "id": "8e84b699",
   "metadata": {},
   "outputs": [
    {
     "name": "stdout",
     "output_type": "stream",
     "text": [
      "457\n",
      "-211\n",
      "41082\n",
      "0.36826347305389223\n"
     ]
    }
   ],
   "source": [
    "#9.1\n",
    "\n",
    "a = 123\n",
    "b = 334\n",
    "print(a.__add__(b))\n",
    "print(a.__sub__(b))\n",
    "print(a.__mul__(b))\n",
    "print(a.__truediv__(b))"
   ]
  },
  {
   "cell_type": "code",
   "execution_count": 19,
   "id": "0a33e273",
   "metadata": {},
   "outputs": [
    {
     "name": "stdout",
     "output_type": "stream",
     "text": [
      "HELLO WORLD~\n"
     ]
    },
    {
     "ename": "AttributeError",
     "evalue": "'str' object has no attribute 'remove'",
     "output_type": "error",
     "traceback": [
      "\u001b[0;31m---------------------------------------------------------------------------\u001b[0m",
      "\u001b[0;31mAttributeError\u001b[0m                            Traceback (most recent call last)",
      "Cell \u001b[0;32mIn[19], line 9\u001b[0m\n\u001b[1;32m      7\u001b[0m \u001b[38;5;28mprint\u001b[39m(s\u001b[38;5;241m.\u001b[39mupper())\n\u001b[1;32m      8\u001b[0m \u001b[38;5;66;03m#print(s.insert())\u001b[39;00m\n\u001b[0;32m----> 9\u001b[0m \u001b[38;5;28mprint\u001b[39m(\u001b[43ms\u001b[49m\u001b[38;5;241;43m.\u001b[39;49m\u001b[43mremove\u001b[49m())\n",
      "\u001b[0;31mAttributeError\u001b[0m: 'str' object has no attribute 'remove'"
     ]
    }
   ],
   "source": [
    "#9.3\n",
    "\n",
    "s = 'Hello World~'\n",
    "#print(s.pop())\n",
    "#print(s.sort())\n",
    "#print(s.append())\n",
    "print(s.upper())  #upper만 사용가능\n",
    "#print(s.insert())\n",
    "#print(s.remove())"
   ]
  },
  {
   "cell_type": "code",
   "execution_count": 9,
   "id": "54c996a6",
   "metadata": {},
   "outputs": [
    {
     "name": "stdout",
     "output_type": "stream",
     "text": [
      "이름은 Mango이고, 나이는 3살 입니다.\n"
     ]
    }
   ],
   "source": [
    "#9.7\n",
    "\n",
    "class Dog:\n",
    "    def __init__(self, name, age):\n",
    "        self.name = name\n",
    "        self.age = age\n",
    "    def __str__(self):\n",
    "        #return 'Dog(name='+self.name+', age='+self.age+')'\n",
    "        return ('이름은 {}이고, 나이는 {}살 입니다.'.format(self.name, self.age))\n",
    "\n",
    "\n",
    "my_dog = Dog('Mango', '3')        \n",
    "\n",
    "print(my_dog)"
   ]
  },
  {
   "cell_type": "code",
   "execution_count": 61,
   "id": "aee5c8d4",
   "metadata": {},
   "outputs": [
    {
     "name": "stdout",
     "output_type": "stream",
     "text": [
      "c3=C(30)\n",
      "c4=C(-10)\n"
     ]
    }
   ],
   "source": [
    "#9.9\n",
    "\n",
    "class Counter:\n",
    "    def __init__(self, number):\n",
    "        self.number = number\n",
    "        \n",
    "    def reset(self):\n",
    "        return self.number == 0\n",
    "    \n",
    "    def inc(self):\n",
    "        self.number += 1\n",
    "        if self.number >= 100:\n",
    "            return Counter.reset()\n",
    "        \n",
    "    def dec(self):\n",
    "        self.number -= 1\n",
    "        if self.number <= -1:\n",
    "            return Counter.reset()\n",
    "        \n",
    "    def __add__(self, other):\n",
    "        result = self.number + other.number\n",
    "        return result\n",
    "    \n",
    "    def __sub__(self, other):\n",
    "        return self.number - other.number\n",
    "\n",
    "    def __str__(self):\n",
    "        return '({})'.format(self.number)\n",
    "    \n",
    "c1 = Counter(10)\n",
    "#c1.inc()\n",
    "#print(\"c1=\",c1)\n",
    "c2 = Counter(20)\n",
    "c3 = c1 + c2\n",
    "c4 = c1 - c2\n",
    "\n",
    "#print(c1)\n",
    "#print(c2)\n",
    "print(\"c3=C({})\".format(c3))\n",
    "print(\"c4=C({})\".format(c4))\n",
    "\n",
    "        "
   ]
  },
  {
   "cell_type": "code",
   "execution_count": 33,
   "id": "dc4969ad",
   "metadata": {},
   "outputs": [
    {
     "name": "stdout",
     "output_type": "stream",
     "text": [
      "학생의 이름을 입력하세요: 최다온\n",
      "학생의 학번을 입력하세요: 202212784\n",
      "학생의 국어성적을 입력하세요: 89\n",
      "학생의 수학성적을 입력하세요: 98\n",
      "학생의 과학성적을 입력하세요: 97\n"
     ]
    },
    {
     "ename": "AttributeError",
     "evalue": "'Student' object has no attribute 'total_score'",
     "output_type": "error",
     "traceback": [
      "\u001b[0;31m---------------------------------------------------------------------------\u001b[0m",
      "\u001b[0;31mAttributeError\u001b[0m                            Traceback (most recent call last)",
      "Cell \u001b[0;32mIn[33], line 57\u001b[0m\n\u001b[1;32m     53\u001b[0m student\u001b[38;5;241m.\u001b[39mset_science_quiz(science_quiz)\n\u001b[1;32m     54\u001b[0m \u001b[38;5;66;03m#student.get_total_score()\u001b[39;00m\n\u001b[1;32m     55\u001b[0m \u001b[38;5;66;03m#student.get_avg_score()\u001b[39;00m\n\u001b[0;32m---> 57\u001b[0m \u001b[38;5;28;43mprint\u001b[39;49m\u001b[43m(\u001b[49m\u001b[43mstudent\u001b[49m\u001b[43m)\u001b[49m\n",
      "Cell \u001b[0;32mIn[33], line 13\u001b[0m, in \u001b[0;36mStudent.__str__\u001b[0;34m(self)\u001b[0m\n\u001b[1;32m     12\u001b[0m \u001b[38;5;28;01mdef\u001b[39;00m \u001b[38;5;21m__str__\u001b[39m(\u001b[38;5;28mself\u001b[39m):\n\u001b[0;32m---> 13\u001b[0m     \u001b[38;5;28;01mreturn\u001b[39;00m \u001b[38;5;28mprint\u001b[39m(\u001b[38;5;124m\"\u001b[39m\u001b[38;5;124m이름: \u001b[39m\u001b[38;5;132;01m{}\u001b[39;00m\u001b[38;5;124m, 학번: \u001b[39m\u001b[38;5;132;01m{}\u001b[39;00m\u001b[38;5;130;01m\\n\u001b[39;00m\u001b[38;5;124m국어성적: \u001b[39m\u001b[38;5;132;01m{}\u001b[39;00m\u001b[38;5;124m, 수학성적: \u001b[39m\u001b[38;5;132;01m{}\u001b[39;00m\u001b[38;5;124m, 과학성적: \u001b[39m\u001b[38;5;132;01m{}\u001b[39;00m\u001b[38;5;130;01m\\n\u001b[39;00m\u001b[38;5;124m합계: \u001b[39m\u001b[38;5;132;01m{}\u001b[39;00m\u001b[38;5;124m, 평균:\u001b[39m\u001b[38;5;132;01m{}\u001b[39;00m\u001b[38;5;124m\"\u001b[39m\u001b[38;5;241m.\u001b[39mformat(\u001b[38;5;28mself\u001b[39m\u001b[38;5;241m.\u001b[39mname,\u001b[38;5;28mself\u001b[39m\u001b[38;5;241m.\u001b[39mstudent_id,\u001b[38;5;28mself\u001b[39m\u001b[38;5;241m.\u001b[39mkorean_quiz,\u001b[38;5;28mself\u001b[39m\u001b[38;5;241m.\u001b[39mmath_quiz,\u001b[38;5;28mself\u001b[39m\u001b[38;5;241m.\u001b[39mscience_quiz,\u001b[38;5;28;43mself\u001b[39;49m\u001b[38;5;241;43m.\u001b[39;49m\u001b[43mtotal_score\u001b[49m,\u001b[38;5;28mself\u001b[39m\u001b[38;5;241m.\u001b[39mavg_score))\n",
      "\u001b[0;31mAttributeError\u001b[0m: 'Student' object has no attribute 'total_score'"
     ]
    }
   ],
   "source": [
    "#9.11\n",
    "\n",
    "class Student:\n",
    "    def __init__(self,name,student_id):\n",
    "        self.name = name\n",
    "        self.student_id = student_id\n",
    "        self.korean_quiz = korean_quiz\n",
    "        self.math_quiz = math_quiz\n",
    "        self.science_quiz = science_quiz\n",
    "        \n",
    "    \n",
    "    def __str__(self):\n",
    "        return print(\"이름: {}, 학번: {}\\n국어성적: {}, 수학성적: {}, 과학성적: {}\\n합계: {}, 평균:{}\".format(self.name,self.student_id,self.korean_quiz,self.math_quiz,self.science_quiz,self.total_score,self.avg_score))\n",
    "        \n",
    " \n",
    "    def get_name(self):\n",
    "        return self.name\n",
    "    def get_student_id(self):\n",
    "        return self.student_id\n",
    "    def get_korean_quiz(self):\n",
    "        return self.korean_quiz\n",
    "    def get_math_quiz(self):   \n",
    "        return self.math_quiz\n",
    "    def get_science_quiz(self):\n",
    "        return self.science_quiz\n",
    "    def get_total_score(self):\n",
    "        self.total_score = self.korean_quiz + self.math_quiz + self.science_quiz\n",
    "        return self.total_score\n",
    "    def get_avg_score(self):\n",
    "        self.avg_score = self.total_score / 3\n",
    "        return self.avg_score\n",
    "                     \n",
    "    def set_korean_quiz(self, value):\n",
    "        self.korean_quiz = value\n",
    "    def set_math_quiz(self,value):\n",
    "        self.math_quiz = value\n",
    "    def set_science_quiz(self, value):\n",
    "        self.science_quiz = value\n",
    "    \n",
    "    \n",
    "\n",
    "name = input(\"학생의 이름을 입력하세요: \")\n",
    "student_id = int(input(\"학생의 학번을 입력하세요: \"))\n",
    "\n",
    "student = Student(name, student_id)\n",
    "\n",
    "korean_quiz = int(input(\"학생의 국어성적을 입력하세요: \"))\n",
    "math_quiz = int(input(\"학생의 수학성적을 입력하세요: \"))\n",
    "science_quiz = int(input(\"학생의 과학성적을 입력하세요: \"))\n",
    "                     \n",
    "student.set_korean_quiz(korean_quiz)\n",
    "student.set_math_quiz(math_quiz)\n",
    "student.set_science_quiz(science_quiz)\n",
    "#student.get_total_score()\n",
    "#student.get_avg_score()\n",
    "                     \n",
    "print(student)\n",
    "\n",
    "                     \n",
    "                     #def get_name(self)에 invalid syntax error 발생 >> 해결\n",
    "        #student object가 total_score 안 가졌다고 attribute error 발생 "
   ]
  },
  {
   "cell_type": "code",
   "execution_count": 42,
   "id": "25f792dd",
   "metadata": {},
   "outputs": [
    {
     "name": "stdout",
     "output_type": "stream",
     "text": [
      "r1= r1=Rect:(x=0,y=0,w=100,h=100,면적=<bound method Rect.area of <__main__.Rect object at 0x7fe40978f850>>)\n"
     ]
    },
    {
     "ename": "TypeError",
     "evalue": "__str__ returned non-string (type NoneType)",
     "output_type": "error",
     "traceback": [
      "\u001b[0;31m---------------------------------------------------------------------------\u001b[0m",
      "\u001b[0;31mTypeError\u001b[0m                                 Traceback (most recent call last)",
      "Cell \u001b[0;32mIn[42], line 50\u001b[0m\n\u001b[1;32m     46\u001b[0m r3 \u001b[38;5;241m=\u001b[39m Rect(\u001b[38;5;241m-\u001b[39m\u001b[38;5;241m100\u001b[39m,\u001b[38;5;241m0\u001b[39m,\u001b[38;5;241m120\u001b[39m,\u001b[38;5;241m100\u001b[39m)\n\u001b[1;32m     48\u001b[0m \u001b[38;5;66;03m#print(type(r1))\u001b[39;00m\n\u001b[0;32m---> 50\u001b[0m \u001b[38;5;28;43mprint\u001b[39;49m\u001b[43m(\u001b[49m\u001b[38;5;124;43m\"\u001b[39;49m\u001b[38;5;124;43mr1=\u001b[39;49m\u001b[38;5;124;43m\"\u001b[39;49m\u001b[43m,\u001b[49m\u001b[43mr1\u001b[49m\u001b[43m)\u001b[49m\n\u001b[1;32m     51\u001b[0m \u001b[38;5;28mprint\u001b[39m(\u001b[38;5;124m\"\u001b[39m\u001b[38;5;124mr2=\u001b[39m\u001b[38;5;124m\"\u001b[39m,r2)\n\u001b[1;32m     52\u001b[0m \u001b[38;5;28mprint\u001b[39m(\u001b[38;5;124m\"\u001b[39m\u001b[38;5;124mr3=\u001b[39m\u001b[38;5;124m\"\u001b[39m,r3)\n",
      "\u001b[0;31mTypeError\u001b[0m: __str__ returned non-string (type NoneType)"
     ]
    }
   ],
   "source": [
    "#9.13\n",
    "\n",
    "class Rect:\n",
    "    def __init__(self,x,y,width,height):\n",
    "        self.x = x\n",
    "        self.y = y\n",
    "        self.width = width\n",
    "        self.height = height\n",
    "        \n",
    "    def __str__(self):\n",
    "        return print(\"r1=Rect:(x={},y={},w={},h={},면적={})\".format(self.x,self.y,self.width,self.height,self.area))\n",
    "    \n",
    "    def set_x(self,x):\n",
    "        self.x=x\n",
    "    def set_y(self,y):\n",
    "        self.y=y\n",
    "    def set_width(self,width):\n",
    "        self.width=width\n",
    "    def set_height(self,height):\n",
    "        self.height=height\n",
    "    \n",
    "    def get_x(self):\n",
    "        return self.x\n",
    "    def get_y(self):\n",
    "        return self.y\n",
    "    def get_width(self):\n",
    "        return self.width\n",
    "    def get_height(self):\n",
    "        return self.height\n",
    "    def area(self):\n",
    "        return self.width*self.height\n",
    "    \n",
    "    def overlaps(self,r):\n",
    "        if (self.x + self.width > r.get_x() or self.x < r.get_x()+r.get_width() or self.y-self.height < r.get_y() or r.get_y()-r.get_height()<self.y):\n",
    "            return True\n",
    "        else:\n",
    "            return False\n",
    "    def contains(self,r):\n",
    "        if (self.x <= r.get_x() and self.x+self.width >= r.get_x() + r.get_width() and self.y >= r.get_y() and self.y - self.height <= r.get_y() - r.get_height()):\n",
    "            return True\n",
    "        else:\n",
    "            return False\n",
    "        \n",
    "r1 = Rect(0,0,100,100)\n",
    "r2 = Rect(0,-10,10,10)\n",
    "r3 = Rect(-100,0,120,100)\n",
    "\n",
    "#print(type(r1))\n",
    "\n",
    "print(\"r1=\",r1)\n",
    "print(\"r2=\",r2)\n",
    "print(\"r3=\",r3)\n",
    "\n",
    "print('r1 contains r2:',r1.contains(r2))\n",
    "print('r1 contains r3:',r1.contains(r3))\n",
    "print('r1 contains r2:',r1.contains(r2))\n",
    "print('r1 contains r3:',r1.contains(r3))"
   ]
  },
  {
   "cell_type": "code",
   "execution_count": 29,
   "id": "c274a6da",
   "metadata": {},
   "outputs": [
    {
     "name": "stdout",
     "output_type": "stream",
     "text": [
      "학생의 이름을 입력하세요 : 최다온\n",
      "학생의 학번을 입력하세요 : 202212784\n",
      "학생의 국어 성적을 입력하세요 : 90\n",
      "학생의 수학 성적을 입력하세요 : 89\n",
      "학생의 과학 성적을 입력하세요 : 95\n",
      "이름 : 최다온, 학번 : 202212784        국어성적 : 90, 수학성적 : 89, 과학성적 : 95        합계 : 274, 평균 : 91.33333333333333\n"
     ]
    }
   ],
   "source": [
    "# 9.11 - j.sanggyu code \n",
    "class Student:\n",
    "    def __init__(self, name, student_id):\n",
    "        self.__name = name\n",
    "        self.__student_id = student_id\n",
    "        self.__korean_quiz = korean_quiz\n",
    "        self.__math_quiz = math_quiz\n",
    "        self.__science_quiz = science_quiz\n",
    "\n",
    "    def __str__(self):\n",
    "        return \"이름 : {}, 학번 : {}\\\n",
    "        국어성적 : {}, 수학성적 : {}, 과학성적 : {}\\\n",
    "        합계 : {}, 평균 : {}\".format(self.__name, self.__student_id, self.__korean_quiz, self.__math_quiz, self.__science_quiz, self.get_total_score(), self.get_avg_score())\n",
    "\n",
    "    # 게터 설정\n",
    "    def get_name(self):\n",
    "        return self.__name\n",
    "    def get_student_id(self):\n",
    "        return self.__student_id\n",
    "    def get_korean_quiz(self):\n",
    "        return self.__korean_quiz\n",
    "    def get_math_quiz(self):\n",
    "        return self.__math_quiz\n",
    "    def get_science_quiz(self):\n",
    "        return self.__science_quiz\n",
    "    def get_total_score(self):\n",
    "        return self.__korean_quiz + self.__math_quiz + self.__science_quiz\n",
    "    def get_avg_score(self):\n",
    "        return self.get_total_score() / 3\n",
    "    \n",
    "    # 세터 설정\n",
    "    def set_korean_quiz(self, value):\n",
    "        self.__korean_quiz = value\n",
    "    def set_math_quiz(self, value):\n",
    "        self.__math_quiz = value\n",
    "    def set_science_quiz(self, value):\n",
    "        self.__science_quiz = value\n",
    "\n",
    "name = input('학생의 이름을 입력하세요 : ')\n",
    "student_id = input('학생의 학번을 입력하세요 : ')\n",
    "\n",
    "student = Student(name, student_id)\n",
    "\n",
    "korean_quiz = int(input('학생의 국어 성적을 입력하세요 : '))\n",
    "math_quiz = int(input('학생의 수학 성적을 입력하세요 : '))\n",
    "science_quiz = int(input('학생의 과학 성적을 입력하세요 : '))\n",
    "\n",
    "student.set_korean_quiz(korean_quiz)\n",
    "student.set_math_quiz(math_quiz)\n",
    "student.set_science_quiz(science_quiz)\n",
    "\n",
    "print(student)"
   ]
  },
  {
   "cell_type": "code",
   "execution_count": null,
   "id": "a28b0f79",
   "metadata": {},
   "outputs": [],
   "source": []
  }
 ],
 "metadata": {
  "kernelspec": {
   "display_name": "Python 3 (ipykernel)",
   "language": "python",
   "name": "python3"
  },
  "language_info": {
   "codemirror_mode": {
    "name": "ipython",
    "version": 3
   },
   "file_extension": ".py",
   "mimetype": "text/x-python",
   "name": "python",
   "nbconvert_exporter": "python",
   "pygments_lexer": "ipython3",
   "version": "3.9.13"
  }
 },
 "nbformat": 4,
 "nbformat_minor": 5
}
