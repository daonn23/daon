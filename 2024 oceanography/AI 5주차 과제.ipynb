{
 "cells": [
  {
   "cell_type": "code",
   "execution_count": 3,
   "id": "e6757650",
   "metadata": {},
   "outputs": [
    {
     "name": "stdout",
     "output_type": "stream",
     "text": [
      "60\n"
     ]
    },
    {
     "data": {
      "text/plain": [
       "'list_ex[high-low]\\nlist_ex[low-high]\\nlist_ex[-1]\\nlist_ex[-low]\\nlist_ex[2*3]\\nlist_ex[2]*3\\nlist_ex[5%4]\\nlen(list_ex)'"
      ]
     },
     "execution_count": 3,
     "metadata": {},
     "output_type": "execute_result"
    }
   ],
   "source": [
    "#5.1\n",
    "\n",
    "list_ex=[10,20,30,40,50,60,70]\n",
    "high=5\n",
    "low=3\n",
    "list_ex[low]\n",
    "print(list_ex[low+2])\n",
    "\"\"\"list_ex[high-low]\n",
    "list_ex[low-high]\n",
    "list_ex[-1]\n",
    "list_ex[-low]\n",
    "list_ex[2*3]\n",
    "list_ex[2]*3\n",
    "list_ex[5%4]\n",
    "len(list_ex)\"\"\""
   ]
  },
  {
   "cell_type": "code",
   "execution_count": 4,
   "id": "f473aceb",
   "metadata": {},
   "outputs": [
    {
     "ename": "NameError",
     "evalue": "name 'i' is not defined",
     "output_type": "error",
     "traceback": [
      "\u001b[0;31m---------------------------------------------------------------------------\u001b[0m",
      "\u001b[0;31mNameError\u001b[0m                                 Traceback (most recent call last)",
      "Cell \u001b[0;32mIn[4], line 5\u001b[0m\n\u001b[1;32m      3\u001b[0m list1\u001b[38;5;241m=\u001b[39m[\u001b[38;5;241m3\u001b[39m,\u001b[38;5;241m5\u001b[39m,\u001b[38;5;241m7\u001b[39m]\n\u001b[1;32m      4\u001b[0m list2\u001b[38;5;241m=\u001b[39m[\u001b[38;5;241m2\u001b[39m,\u001b[38;5;241m3\u001b[39m,\u001b[38;5;241m4\u001b[39m,\u001b[38;5;241m5\u001b[39m,\u001b[38;5;241m6\u001b[39m]\n\u001b[0;32m----> 5\u001b[0m \u001b[38;5;28mprint\u001b[39m(\u001b[38;5;28mtype\u001b[39m(\u001b[43mi\u001b[49m))\n\u001b[1;32m      6\u001b[0m \u001b[38;5;28;01mfor\u001b[39;00m i \u001b[38;5;129;01min\u001b[39;00m list1:\n\u001b[1;32m      7\u001b[0m     \u001b[38;5;28;01mfor\u001b[39;00m j \u001b[38;5;129;01min\u001b[39;00m list2:\n",
      "\u001b[0;31mNameError\u001b[0m: name 'i' is not defined"
     ]
    }
   ],
   "source": [
    "#5.3\n",
    "\n",
    "list1=[3,5,7]\n",
    "list2=[2,3,4,5,6]\n",
    "#print(type(i))\n",
    "for i in list1:\n",
    "    for j in list2:\n",
    "        print(int(i),'*',int(j),'=',i*j)"
   ]
  },
  {
   "cell_type": "code",
   "execution_count": 14,
   "id": "e96a4858",
   "metadata": {},
   "outputs": [
    {
     "name": "stdout",
     "output_type": "stream",
     "text": [
      "I like  pancakes.\n",
      "I like  kiwi juice.\n",
      "I like  espresso.\n",
      "I love  pancakes.\n",
      "I love  kiwi juice.\n",
      "I love  espresso.\n"
     ]
    }
   ],
   "source": [
    "#5.5\n",
    "\n",
    "list1=['I like','I love']\n",
    "list2=['pancakes.','kiwi juice.','espresso.']\n",
    "\n",
    "for i in list1:\n",
    "    for j in list2:\n",
    "        print(i,'',j)"
   ]
  },
  {
   "cell_type": "code",
   "execution_count": 19,
   "id": "a61d0b30",
   "metadata": {},
   "outputs": [
    {
     "name": "stdout",
     "output_type": "stream",
     "text": [
      "리스트 원소들: [10, 20, 30, 50, 60]\n",
      "리스트 원소들의 합: 170\n"
     ]
    }
   ],
   "source": [
    "#5.7\n",
    "\n",
    "n_list=[10, 20, 30, 50, 60]\n",
    "n_sum=0\n",
    "for i in n_list:\n",
    "    n_sum += i\n",
    "#print(n_sum)\n",
    "\n",
    "print(\"리스트 원소들:\",n_list)\n",
    "print(\"리스트 원소들의 합:\",n_sum)"
   ]
  },
  {
   "cell_type": "code",
   "execution_count": 21,
   "id": "f6353c99",
   "metadata": {},
   "outputs": [
    {
     "name": "stdout",
     "output_type": "stream",
     "text": [
      "리스트 원소들: [10, 20, 30, 50, 60]\n",
      "리스트 원소들 중 최댓값: 60\n"
     ]
    }
   ],
   "source": [
    "#5.9\n",
    "\n",
    "n_list=[10, 20, 30, 50, 60]\n",
    "n_max=n_list[0]\n",
    "\n",
    "for i in n_list:\n",
    "    if n_max < i:\n",
    "        n_max = i\n",
    "\n",
    "print(\"리스트 원소들:\",n_list)\n",
    "print(\"리스트 원소들 중 최댓값:\",n_max)"
   ]
  },
  {
   "cell_type": "code",
   "execution_count": 28,
   "id": "b460ccb3",
   "metadata": {},
   "outputs": [
    {
     "name": "stdout",
     "output_type": "stream",
     "text": [
      "5개의 수를 입력하세요:45 67 20 34 2\n",
      "합: 168\n",
      "평균: 33.6\n",
      "최댓값: 67\n",
      "최솟값: 2\n"
     ]
    }
   ],
   "source": [
    "#5.11\n",
    "\n",
    "list1=[]\n",
    "n_list = list(map(int, input('5개의 수를 입력하세요:').split()))\n",
    "\n",
    "print('합:',sum(n_list))\n",
    "print('평균:',sum(n_list)/len(n_list))\n",
    "print('최댓값:',max(n_list))\n",
    "print('최솟값:',min(n_list))\n",
    "\n",
    "#45 67 20 34 2"
   ]
  },
  {
   "cell_type": "code",
   "execution_count": 3,
   "id": "f7742c0c",
   "metadata": {},
   "outputs": [
    {
     "name": "stdout",
     "output_type": "stream",
     "text": [
      "5개의 수를 입력하세요:45 67 20 34 2 100 23 45 67 89\n",
      "합: 492\n",
      "평균: 49.2\n",
      "표준편차: 29.718008008613225\n"
     ]
    }
   ],
   "source": [
    "#5.13\n",
    "\n",
    "import numpy as np\n",
    "\n",
    "list1=[]\n",
    "n_list = list(map(int, input('10개의 수를 입력하세요:').split()))\n",
    "\n",
    "mean_value = np.mean(n_list)\n",
    "std_value = np.std(n_list)\n",
    "\n",
    "print('합:',sum(n_list))\n",
    "print(\"평균:\", mean_value)\n",
    "print(\"표준편차:\", std_value)\n",
    "\n",
    "#45 67 20 34 2 100 23 45 67 89"
   ]
  },
  {
   "cell_type": "code",
   "execution_count": 4,
   "id": "38bbf694",
   "metadata": {},
   "outputs": [
    {
     "name": "stdout",
     "output_type": "stream",
     "text": [
      "Have\n",
      "beautiful\n",
      "day\n"
     ]
    }
   ],
   "source": [
    "#5.15\n",
    "\n",
    "greet='Have a beautiful day'\n",
    "\n",
    "print(greet[0:4])\n",
    "print(greet[7:16])\n",
    "print(greet[17:20])"
   ]
  },
  {
   "cell_type": "code",
   "execution_count": 5,
   "id": "5eac9159",
   "metadata": {},
   "outputs": [
    {
     "data": {
      "text/plain": [
       "['dog', 'cat', 'tiger', 'lion']"
      ]
     },
     "execution_count": 5,
     "metadata": {},
     "output_type": "execute_result"
    }
   ],
   "source": [
    "#5.17\n",
    "\n",
    "animals=['dog','cat','tiger','lion']\n",
    "\n",
    "animals"
   ]
  },
  {
   "cell_type": "code",
   "execution_count": null,
   "id": "310b29e6",
   "metadata": {},
   "outputs": [],
   "source": [
    "#5.19\n",
    "\n",
    "s_list=['abc', 'bcd', 'abc', 'abba', 'cddc', 'opq', 'opq']\n",
    "new_s_list=[]\n",
    "\n",
    "for i in s_list:\n",
    "    if i not in new_s_list:\n",
    "        new_s_list.append(i)\n",
    "        \n",
    "print(new_s_list)"
   ]
  },
  {
   "cell_type": "code",
   "execution_count": null,
   "id": "06cbd1c3",
   "metadata": {},
   "outputs": [],
   "source": [
    "#5.21\n",
    "\n"
   ]
  }
 ],
 "metadata": {
  "kernelspec": {
   "display_name": "Python 3 (ipykernel)",
   "language": "python",
   "name": "python3"
  },
  "language_info": {
   "codemirror_mode": {
    "name": "ipython",
    "version": 3
   },
   "file_extension": ".py",
   "mimetype": "text/x-python",
   "name": "python",
   "nbconvert_exporter": "python",
   "pygments_lexer": "ipython3",
   "version": "3.9.13"
  }
 },
 "nbformat": 4,
 "nbformat_minor": 5
}
