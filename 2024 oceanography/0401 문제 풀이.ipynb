{
 "cells": [
  {
   "cell_type": "code",
   "execution_count": 1,
   "id": "52b61a3d",
   "metadata": {},
   "outputs": [
    {
     "ename": "ModuleNotFoundError",
     "evalue": "No module named 'numpy'",
     "output_type": "error",
     "traceback": [
      "\u001b[0;31m---------------------------------------------------------------------------\u001b[0m",
      "\u001b[0;31mModuleNotFoundError\u001b[0m                       Traceback (most recent call last)",
      "Cell \u001b[0;32mIn[1], line 3\u001b[0m\n\u001b[1;32m      1\u001b[0m \u001b[38;5;66;03m#4.27\u001b[39;00m\n\u001b[0;32m----> 3\u001b[0m \u001b[38;5;28;01mimport\u001b[39;00m \u001b[38;5;21;01mnumpy\u001b[39;00m \u001b[38;5;28;01mas\u001b[39;00m \u001b[38;5;21;01mnp\u001b[39;00m\n\u001b[1;32m      5\u001b[0m \u001b[38;5;28;01mdef\u001b[39;00m \u001b[38;5;21munit_frac\u001b[39m(frac):\n\u001b[1;32m      6\u001b[0m     inv_frac \u001b[38;5;241m=\u001b[39m np\u001b[38;5;241m.\u001b[39mfloor(\u001b[38;5;241m1\u001b[39m\u001b[38;5;241m/\u001b[39mfrac)\n",
      "\u001b[0;31mModuleNotFoundError\u001b[0m: No module named 'numpy'"
     ]
    }
   ],
   "source": [
    "#4.27\n",
    "\n",
    "import numpy as np\n",
    "\n",
    "def unit_frac(frac):\n",
    "    inv_frac = np.floor(1/frac)\n",
    "    #1/inv_frac <= frac < 1/(inv_frac-1)\n",
    "    if a-1/(inv_frac) < 1/(inv_frac-1)-a:\n",
    "        return inv_frac\n",
    "    else:\n",
    "        return (inv_frac-1)\n",
    "    #unit_frac이 나오는 것 \n",
    "\n",
    "a=float(input(\"1보다는 작고 0보다 큰 소수를 입력하세요: \"))\n",
    "b=unit_frac(a)\n",
    "\n",
    "print(b)"
   ]
  },
  {
   "cell_type": "code",
   "execution_count": null,
   "id": "5a1c54cb",
   "metadata": {},
   "outputs": [],
   "source": []
  },
  {
   "cell_type": "code",
   "execution_count": null,
   "id": "17470d93",
   "metadata": {},
   "outputs": [
    {
     "name": "stdout",
     "output_type": "stream",
     "text": [
      "aabbbccccccaacccfg"
     ]
    }
   ],
   "source": [
    "#5.21\n",
    "\n",
    "src = 'a2b3c6a2c3f1g1'\n",
    "\n",
    "for ch in src:\n",
    "    if ch.isnumeric():\n",
    "        for i in range(int(ch)):\n",
    "            print(ch_old,end='')\n",
    "    else:\n",
    "        ch_old=ch"
   ]
  },
  {
   "cell_type": "code",
   "execution_count": null,
   "id": "d982b5b1",
   "metadata": {},
   "outputs": [],
   "source": [
    "print('hello')"
   ]
  },
  {
   "cell_type": "code",
   "execution_count": null,
   "id": "dfcb084f",
   "metadata": {},
   "outputs": [],
   "source": [
    "#수업 중 문제\n",
    "#임의의 숫자를 여러개 입력받고 정렬 \n",
    "\n",
    "#list1=[]\n",
    "#s=int(input(\"숫자를 입력하세요:\"))\n",
    "#list1.sort()\n",
    "\n",
    "#bubble sort..??? 를 사용한 코드\n",
    "#binaray sort << search 필요\n",
    "#quick sort << 주로 사용하는 것\n",
    "\n",
    "i_list=[9, 4, 6, 2, 1]\n",
    "\n",
    "ilen=len(i_list)\n",
    "\n",
    "for i in range(ilen):\n",
    "    for j in range(ilen-i-1):\n",
    "        if i_list[j] > i_list[j+1]:\n",
    "            tmp=i_list[j+1]\n",
    "            i_list[j+1] = i_list[j]\n",
    "            i_list[j] = tmp"
   ]
  },
  {
   "cell_type": "code",
   "execution_count": null,
   "id": "3bab4f2e",
   "metadata": {},
   "outputs": [
    {
     "name": "stdout",
     "output_type": "stream",
     "text": [
      "Collecting numpy\r\n"
     ]
    }
   ],
   "source": []
  },
  {
   "cell_type": "code",
   "execution_count": null,
   "id": "12846694",
   "metadata": {},
   "outputs": [],
   "source": []
  }
 ],
 "metadata": {
  "kernelspec": {
   "display_name": "Python 3 (ipykernel)",
   "language": "python",
   "name": "python3"
  },
  "language_info": {
   "codemirror_mode": {
    "name": "ipython",
    "version": 3
   },
   "file_extension": ".py",
   "mimetype": "text/x-python",
   "name": "python",
   "nbconvert_exporter": "python",
   "pygments_lexer": "ipython3",
   "version": "3.9.13"
  }
 },
 "nbformat": 4,
 "nbformat_minor": 5
}
