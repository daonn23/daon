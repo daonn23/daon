{
 "cells": [
  {
   "cell_type": "code",
   "execution_count": 4,
   "id": "6ac31ac2",
   "metadata": {},
   "outputs": [
    {
     "name": "stdout",
     "output_type": "stream",
     "text": [
      "30\n",
      "0\n"
     ]
    }
   ],
   "source": [
    "class Car:\n",
    "    def __init__(self,name,year):\n",
    "        self.name = name\n",
    "        self.year = year\n",
    "        self.speed = 0\n",
    "        \n",
    "    def upSpeed(self, value):\n",
    "        self.speed += value\n",
    "\n",
    "    def reset(self):\n",
    "        self.speed = 0\n",
    "\n",
    "class Sedan(Car):\n",
    "    def upSpeed(self, value):\n",
    "        self.speed += value\n",
    "\n",
    "        if self.speed >150:\n",
    "            self.speed = 150\n",
    "\n",
    "    def downSpeed(self, value):\n",
    "        self.speed -= value\n",
    "\n",
    "        if self.speed < 0:\n",
    "            self.speed = 0\n",
    "\n",
    "\n",
    "myCar = Sedan('Volvo', 2023)\n",
    "\n",
    "#myCar.upSpeed(50)\n",
    "myCar.upSpeed(30)      #mycar는 car class에 속해있으므로 car class에서 찾아와야함\n",
    "print(myCar.speed)\n",
    "\n",
    "myCar.reset()\n",
    "print(myCar.speed)"
   ]
  },
  {
   "cell_type": "markdown",
   "id": "8c365c5b",
   "metadata": {},
   "source": [
    "class Television:"
   ]
  },
  {
   "cell_type": "code",
   "execution_count": 5,
   "id": "c8aace8e",
   "metadata": {},
   "outputs": [
    {
     "name": "stdout",
     "output_type": "stream",
     "text": [
      "50\n",
      "30\n"
     ]
    }
   ],
   "source": [
    "# copy하지 않아도 상속 받으면 같은 기능을 함\n",
    "\n",
    "class Sedan(Car):\n",
    "    def upSpeed(self, value):\n",
    "        self.speed += value\n",
    "\n",
    "        if self.speed > 150:\n",
    "            self.speed = 150\n",
    "\n",
    "    def downSpeed(self, value):\n",
    "        self.speed -= value\n",
    "\n",
    "        if self.speed < 0:\n",
    "            self.speed = 0\n",
    "\n",
    "\n",
    "myCar = Sedan('Volvo', 2023)\n",
    "\n",
    "myCar.upSpeed(50)\n",
    "print(myCar.speed)\n",
    "\n",
    "myCar.downSpeed(20)\n",
    "print(myCar.speed)"
   ]
  },
  {
   "cell_type": "code",
   "execution_count": 12,
   "id": "ab37bd29",
   "metadata": {},
   "outputs": [
    {
     "name": "stdout",
     "output_type": "stream",
     "text": [
      "0\n",
      "1\n",
      "2\n",
      "3\n",
      "3\n"
     ]
    }
   ],
   "source": [
    "class Television:  \n",
    "    serialNumber = 0\n",
    "    def __init__(self):\n",
    "        Television.serialNumber += 1  # class 이름을 지정함수 내에 넣음 : class에도 값을 주는 것\n",
    "        self.number = Television.serialNumber\n",
    "        \n",
    "print(Television.serialNumber)  # 값은 0이 됨 : serialNumber 값이 생기려면 instance가 주어져서 함수가 돌아가야 함\n",
    "    \n",
    "tv1 = Television()    # tv1은 Television으로 만들어진 instance\n",
    "print(tv1.number)     # instance에 속한 값을 의미 \n",
    "\n",
    "tv2 = Television()\n",
    "print(tv2.number)\n",
    "\n",
    "tv3 = Television()\n",
    "print(tv3.number)\n",
    "\n",
    "print(Television.serialNumber)  # 3이 출력됨 : television이 3개가 만들어졌다는 의미"
   ]
  },
  {
   "cell_type": "code",
   "execution_count": 17,
   "id": "826dd51f",
   "metadata": {},
   "outputs": [
    {
     "name": "stdout",
     "output_type": "stream",
     "text": [
      "두 수를 입력하시오: 4 0\n",
      "수가 정확한지 확인하세요\n"
     ]
    }
   ],
   "source": [
    "# 사용자가 입력한 0 때문에 발생한 zerodivisionerror 해결법\n",
    "\n",
    "try:\n",
    "    a, b = input(\"두 수를 입력하시오: \").split()\n",
    "    result = int(a) / int(b)\n",
    "    print(\"{}/{}={}\".format(a,b,result))\n",
    "    \n",
    "except:\n",
    "    print(\"수가 정확한지 확인하세요\")  # loof를 넣어 숫자 제대로 입력받을 때까지 코드 작동 가능\n",
    "    \n",
    "# python exception code 따로 존재함\n",
    "# except Exception as e : 예외 종류 알려줌\n"
   ]
  },
  {
   "cell_type": "code",
   "execution_count": 19,
   "id": "26319595",
   "metadata": {},
   "outputs": [
    {
     "name": "stdout",
     "output_type": "stream",
     "text": [
      "지원되지 않은 연산자를 사용하는 오류\n"
     ]
    }
   ],
   "source": [
    "# 예외 명시\n",
    "# error 종류 써줌 : error 종류에 맞게 코딩 가능\n",
    "\n",
    "try:\n",
    "    b = 2/0 \n",
    "    a = 1 + 'hundred'\n",
    "    \n",
    "except ZeroDivisionError:\n",
    "    print(\"0으로 나누는 오류\")\n",
    "except TypeError:\n",
    "    print(\"지원되지 않은 연산자를 사용하는 오류\")"
   ]
  },
  {
   "cell_type": "code",
   "execution_count": 23,
   "id": "dfa5f025",
   "metadata": {},
   "outputs": [
    {
     "name": "stdout",
     "output_type": "stream",
     "text": [
      "두 수를 입력하시오: 10 0\n",
      "오류: 0으로 나눔을 시도했습니다\n",
      "두 수를 입력하시오: 10 5\n",
      "10/5=2.0\n"
     ]
    }
   ],
   "source": [
    "while True:\n",
    "    try:\n",
    "        a, b = input(\"두 수를 입력하시오: \").split()\n",
    "        result = int(a) / int(b)\n",
    "        print(\"{}/{}={}\".format(a,b,result))\n",
    "        break\n",
    "    except ZeroDivisionError:\n",
    "        print(\"오류: 0으로 나눔을 시도했습니다\")\n",
    "    except ValueError:\n",
    "        print(\"오류: 입력값이 정수나 실수가 아닙니다\")\n",
    "    except:\n",
    "        print(\"오류: 10 2와 같이 두 정수를 입력하세요\")\n",
    "    \n",
    "#else:\n",
    "    #print(\"{}/{}={}\".format(a,b,result))"
   ]
  },
  {
   "cell_type": "code",
   "execution_count": 27,
   "id": "889db7a9",
   "metadata": {},
   "outputs": [
    {
     "name": "stdout",
     "output_type": "stream",
     "text": [
      "divide(100,2)함수호출:\n",
      "결과: 50.0\n",
      "수행완료\n",
      "divide(100,0)함수호출:\n",
      "0으로 나누는 오류 발생\n",
      "수행완료\n"
     ]
    }
   ],
   "source": [
    "def divide(x,y):\n",
    "    try:\n",
    "        result = x/y\n",
    "    except ZeroDivisionError:\n",
    "        print(\"0으로 나누는 오류 발생\")\n",
    "    else:\n",
    "        print(\"결과:\",result)\n",
    "    finally:  # 결과가 어떻든 무조건 실행을 함\n",
    "        print(\"수행완료\")\n",
    "        \n",
    "print(\"divide(100,2)함수호출:\")\n",
    "divide(100,2)\n",
    "print(\"divide(100,0)함수호출:\")\n",
    "divide(100,0)"
   ]
  },
  {
   "cell_type": "code",
   "execution_count": 28,
   "id": "44fba1e2",
   "metadata": {},
   "outputs": [
    {
     "name": "stdout",
     "output_type": "stream",
     "text": [
      "예/아니오 중 하나를 입력하세요:에\n",
      "error: 입력을 확인하세요!\n",
      "예/아니오 중 하나를 입력하세요:아니오\n",
      "정상적인 입력입니다\n"
     ]
    }
   ],
   "source": [
    "def get_ans(ans):\n",
    "    if ans in [\"예\",\"아니오\"]:\n",
    "        print(\"정상적인 입력입니다\")\n",
    "    else:\n",
    "        raise ValueError(\"입력을 확인하세요!\")\n",
    "        \n",
    "while True:\n",
    "    try:\n",
    "        ans = input(\"예/아니오 중 하나를 입력하세요:\")\n",
    "        get_ans(ans)\n",
    "        break\n",
    "    except Exception as e:\n",
    "        print(\"error:\",e)"
   ]
  },
  {
   "cell_type": "code",
   "execution_count": null,
   "id": "3beac3d8",
   "metadata": {},
   "outputs": [],
   "source": []
  }
 ],
 "metadata": {
  "kernelspec": {
   "display_name": "Python 3 (ipykernel)",
   "language": "python",
   "name": "python3"
  },
  "language_info": {
   "codemirror_mode": {
    "name": "ipython",
    "version": 3
   },
   "file_extension": ".py",
   "mimetype": "text/x-python",
   "name": "python",
   "nbconvert_exporter": "python",
   "pygments_lexer": "ipython3",
   "version": "3.9.13"
  }
 },
 "nbformat": 4,
 "nbformat_minor": 5
}
