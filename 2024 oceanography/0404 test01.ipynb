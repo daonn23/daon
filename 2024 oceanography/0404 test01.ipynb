{
 "cells": [
  {
   "cell_type": "code",
   "execution_count": 4,
   "id": "0bd000bc",
   "metadata": {},
   "outputs": [
    {
     "name": "stdout",
     "output_type": "stream",
     "text": [
      "내 이름은 나비, 색깔은 검정색, 야옹 야옹~~\n",
      "내 이름은 네로, 색깔은 흰색, 야옹 야옹~~\n",
      "내 이름은 미미, 색깔은 갈색, 야옹 야옹~~\n"
     ]
    }
   ],
   "source": [
    "class Cat:\n",
    "    def __init__(self, name, color='흰색'):\n",
    "        self.name = name\n",
    "        self.color = color\n",
    "\n",
    "    def meow(self):\n",
    "        print('내 이름은 {}, 색깔은 {}, 야옹 야옹~~'.format(self.name, self.color))\n",
    "    \n",
    "nabi = Cat('나비', '검정색')\n",
    "nero = Cat('네로', '흰색')\n",
    "mimi = Cat('미미', '갈색')\n",
    "\n",
    "nabi.meow()\n",
    "nero.meow()\n",
    "mimi.meow()"
   ]
  },
  {
   "cell_type": "code",
   "execution_count": 5,
   "id": "34ac09e6",
   "metadata": {},
   "outputs": [
    {
     "name": "stdout",
     "output_type": "stream",
     "text": [
      "Cat(name=나비, color=검정색)\n",
      "Cat(name=네로, color=흰색)\n"
     ]
    }
   ],
   "source": [
    "class Cat:\n",
    "    def __init__(self, name, color='흰색'):\n",
    "        self.name = name\n",
    "        self.color = color\n",
    "    \n",
    "    def __str__(self):\n",
    "        return 'Cat(name='+self.name+', color='+self.color+')'\n",
    "    \n",
    "nabi = Cat('나비', '검정색')\n",
    "nero = Cat('네로', '흰색')\n",
    "\n",
    "print(nabi)\n",
    "print(nero)"
   ]
  },
  {
   "cell_type": "code",
   "execution_count": 10,
   "id": "285d091d",
   "metadata": {},
   "outputs": [
    {
     "name": "stdout",
     "output_type": "stream",
     "text": [
      "Cat(name=나비, age=3)\n",
      "Cat(name=나비, age=3)\n"
     ]
    }
   ],
   "source": [
    "class Cat:\n",
    "    def __init__(self, name, age):\n",
    "        self.__name = name\n",
    "        self.__age = age\n",
    "    def __str__(self):\n",
    "        return 'Cat(name='+self.__name+', age='+str(self.__age)+')'\n",
    "    def set_age(self, age):\n",
    "        if age > 0:\n",
    "            self.__age = age\n",
    "    def get_age(self):\n",
    "        return self.__age\n",
    "    \n",
    "nabi = Cat('나비', 3)\n",
    "print(nabi)\n",
    "#nabi.set_age(4)\n",
    "#nabi.set_age(-5)\n",
    "\n",
    "nabi.__age = -5\n",
    "print(nabi)\n",
    "#_(언더바) 2개 사용하면 age(=변수 값) 아무리 바꿔줘도 바뀌지 않음을 표현 = 캡슐화 라고 부름\n"
   ]
  },
  {
   "cell_type": "code",
   "execution_count": 24,
   "id": "6d485e78",
   "metadata": {},
   "outputs": [
    {
     "name": "stdout",
     "output_type": "stream",
     "text": [
      "(20,40)*(10,20)=1000\n"
     ]
    }
   ],
   "source": [
    "class Vector2D:\n",
    "    def __init__(self, x, y):\n",
    "        self.__x = x\n",
    "        self.__y = y\n",
    "    def __str__(self):\n",
    "        return \"({},{})\".format(self.__x, self.__y)\n",
    "    def __mul__(self, other):\n",
    "        return self.__x * other.__x + self.__y * other.__y\n",
    "   \n",
    "    #def __rmul__(self, scalar):\n",
    "        #return self * scalar\n",
    "    \n",
    "v1 = Vector2D(20, 40)\n",
    "v2 = Vector2D(10, 20)\n",
    "\n",
    "#l = v1 * v2\n",
    "print(\"{}*{}={}\".format(v1,v2,v1*v2))"
   ]
  },
  {
   "cell_type": "code",
   "execution_count": 29,
   "id": "49d8e93f",
   "metadata": {},
   "outputs": [
    {
     "name": "stdout",
     "output_type": "stream",
     "text": [
      "(20,40)\n"
     ]
    }
   ],
   "source": [
    "class Vector2D:\n",
    "    def __init__(self, x, y):\n",
    "        self.__x = x\n",
    "        self.__y = y\n",
    "    def __str__(self):\n",
    "        return \"({},{})\".format(self.__x, self.__y)\n",
    "    def __gt__(self, other):\n",
    "        return (self.__x**2 + self.__y**2 > other.__x**2 + other.__y**2)   #이 자체가 true, false를 의미\n",
    "    \n",
    "v1 = Vector2D(20, 40)\n",
    "v2 = Vector2D(10, 20)\n",
    "\n",
    "if v1 > v2:\n",
    "    print(v1)\n",
    "else:\n",
    "    print(v2)   "
   ]
  },
  {
   "cell_type": "code",
   "execution_count": null,
   "id": "7a5e30b0",
   "metadata": {},
   "outputs": [],
   "source": []
  },
  {
   "cell_type": "code",
   "execution_count": null,
   "id": "f344c357",
   "metadata": {},
   "outputs": [],
   "source": []
  }
 ],
 "metadata": {
  "kernelspec": {
   "display_name": "Python 3 (ipykernel)",
   "language": "python",
   "name": "python3"
  },
  "language_info": {
   "codemirror_mode": {
    "name": "ipython",
    "version": 3
   },
   "file_extension": ".py",
   "mimetype": "text/x-python",
   "name": "python",
   "nbconvert_exporter": "python",
   "pygments_lexer": "ipython3",
   "version": "3.9.13"
  }
 },
 "nbformat": 4,
 "nbformat_minor": 5
}
