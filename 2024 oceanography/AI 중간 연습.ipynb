{
 "cells": [
  {
   "cell_type": "code",
   "execution_count": 4,
   "id": "1dadaac3",
   "metadata": {},
   "outputs": [
    {
     "name": "stdout",
     "output_type": "stream",
     "text": [
      "사각형의 면적: 1800\n"
     ]
    }
   ],
   "source": [
    "#2.3\n",
    "\n",
    "width = 30\n",
    "height = 60\n",
    "\n",
    "area = int(width) * int(height)\n",
    "print(\"사각형의 면적:\",area)"
   ]
  },
  {
   "cell_type": "code",
   "execution_count": 6,
   "id": "793d9911",
   "metadata": {},
   "outputs": [
    {
     "name": "stdout",
     "output_type": "stream",
     "text": [
      "정사각형의 밑변을 입력하시오:40\n",
      "정사각형의 면적: 1600\n"
     ]
    }
   ],
   "source": [
    "#2.5\n",
    "\n",
    "x = int(input(\"정사각형의 밑변을 입력하시오:\"))\n",
    "area = x**2\n",
    "print(\"정사각형의 면적:\",area)"
   ]
  },
  {
   "cell_type": "code",
   "execution_count": 7,
   "id": "739c76cb",
   "metadata": {},
   "outputs": [
    {
     "name": "stdout",
     "output_type": "stream",
     "text": [
      "10!= 3628800\n"
     ]
    }
   ],
   "source": [
    "#2.7\n",
    "\n",
    "a = 10*9*8*7*6*5*4*3*2*1\n",
    "print(\"10!=\",a)"
   ]
  },
  {
   "cell_type": "code",
   "execution_count": 33,
   "id": "76ce970b",
   "metadata": {},
   "outputs": [
    {
     "name": "stdout",
     "output_type": "stream",
     "text": [
      "섭씨    화씨\n",
      "0     32.0\n",
      "10     50.0\n",
      "20     68.0\n",
      "30     86.0\n",
      "40     104.0\n",
      "50     122.0\n"
     ]
    }
   ],
   "source": [
    "#2.9 - rt\n",
    "\n",
    "#fahrenheit = (9/5) * celcius + 32\n",
    "\n",
    "celcius = [ 0,10,20,30,40,50]\n",
    "fahrenheit= []\n",
    "\n",
    "for i in range(6):\n",
    "    fahrenheit.append((9/5) * celcius[i] + 32) \n",
    "    \n",
    "print(\"섭씨\",\"  \",\"화씨\")\n",
    "\n",
    "for i in range(6):\n",
    "    print(celcius[i],\"   \",fahrenheit[i])"
   ]
  },
  {
   "cell_type": "code",
   "execution_count": 35,
   "id": "675371fb",
   "metadata": {},
   "outputs": [
    {
     "name": "stdout",
     "output_type": "stream",
     "text": [
      "화씨 온도를 입력하세요:86\n",
      "화씨 86 도는 섭씨 30.0 도 입니다.\n"
     ]
    }
   ],
   "source": [
    "#2.11\n",
    "\n",
    "#celcius = (fahrenheit-32)*(5/9)\n",
    "\n",
    "fahrenheit = int(input(\"화씨 온도를 입력하세요:\"))\n",
    "\n",
    "celcius = (fahrenheit-32)*(5/9)\n",
    "\n",
    "print(\"화씨\",fahrenheit,\"도는 섭씨\",celcius,\"도 입니다.\" )"
   ]
  },
  {
   "cell_type": "code",
   "execution_count": 36,
   "id": "1b3794c6",
   "metadata": {},
   "outputs": [
    {
     "name": "stdout",
     "output_type": "stream",
     "text": [
      "원의 반지름을 입력하세요:11\n",
      "원의 둘레= 69.115024 ,원의 면적= 380.132632\n"
     ]
    }
   ],
   "source": [
    "#2.13\n",
    "\n",
    "r = int(input(\"원의 반지름을 입력하세요:\"))\n",
    "\n",
    "PI = 3.141592\n",
    "\n",
    "l = 2*PI*r\n",
    "m = PI*(r**2)\n",
    "\n",
    "print(\"원의 둘레=\",l,\",원의 면적=\",m)"
   ]
  },
  {
   "cell_type": "code",
   "execution_count": 39,
   "id": "ac80cf7d",
   "metadata": {},
   "outputs": [
    {
     "name": "stdout",
     "output_type": "stream",
     "text": [
      "밑변을 입력하세요:5\n",
      "높이를 입력하세요:12\n",
      "빗변: 13.0\n"
     ]
    }
   ],
   "source": [
    "#2.15\n",
    "\n",
    "#c**2 = a**2 +b**2\n",
    "\n",
    "a = int(input(\"밑변을 입력하세요:\"))\n",
    "b = int(input(\"높이를 입력하세요:\"))\n",
    "\n",
    "c = (a**2 + b**2)**(1/2)\n",
    "\n",
    "print(\"빗변:\",c)"
   ]
  },
  {
   "cell_type": "code",
   "execution_count": 43,
   "id": "0457d873",
   "metadata": {},
   "outputs": [
    {
     "name": "stdout",
     "output_type": "stream",
     "text": [
      "2 4 8 16 32 64 128 256 512 1024\n"
     ]
    }
   ],
   "source": [
    "#2.17\n",
    "\n",
    "print(2<<0,2<<1,2<<2,2<<3,2<<4,2<<5,2<<6,2<<7,2<<8,2<<9)"
   ]
  },
  {
   "cell_type": "code",
   "execution_count": 48,
   "id": "2912e076",
   "metadata": {},
   "outputs": [
    {
     "name": "stdout",
     "output_type": "stream",
     "text": [
      "정수를 입력하세요:100\n",
      "입력된 정수는 0에서 100의 범위 안에 있는 짝수인가요? True\n"
     ]
    }
   ],
   "source": [
    "#2.19\n",
    "\n",
    "n = int(input(\"정수를 입력하세요:\"))\n",
    "\n",
    "if n%2==0 and 0<=n<=100:\n",
    "    print(\"입력된 정수는 0에서 100의 범위 안에 있는 짝수인가요? True\")\n",
    "else:\n",
    "    print(\"입력된 정수는 0에서 100의 범위 안에 있는 짝수인가요? False\")\n"
   ]
  },
  {
   "cell_type": "code",
   "execution_count": 50,
   "id": "963d7bee",
   "metadata": {},
   "outputs": [
    {
     "name": "stdout",
     "output_type": "stream",
     "text": [
      "정수를 입력하세요:9\n",
      "9의 2진수 값: 0b1001\n",
      "9의 2진수 값에 대한 비트단위 부정값: -0b1010\n"
     ]
    }
   ],
   "source": [
    "#2.21 - rt : 비트 계산은 bin사용 \n",
    "\n",
    "n = int(input(\"정수를 입력하세요:\"))\n",
    "\n",
    "print(\"9의 2진수 값:\",bin(n))\n",
    "print(\"9의 2진수 값에 대한 비트단위 부정값:\",bin(~n))"
   ]
  },
  {
   "cell_type": "code",
   "execution_count": 51,
   "id": "8a068706",
   "metadata": {},
   "outputs": [
    {
     "name": "stdout",
     "output_type": "stream",
     "text": [
      "세 자리 정수를 입력하세요:349\n",
      "백의 자리: 3\n",
      "십의 자리: 4\n",
      "일의 자리: 9\n"
     ]
    }
   ],
   "source": [
    "#2.23\n",
    "\n",
    "n = int(input(\"세 자리 정수를 입력하세요:\"))\n",
    "\n",
    "a = n // 100\n",
    "b = (n % 100) // 10\n",
    "c = ((n % 100) % 10)\n",
    "\n",
    "print(\"백의 자리:\",a)\n",
    "print(\"십의 자리:\",b)\n",
    "print(\"일의 자리:\",c)"
   ]
  },
  {
   "cell_type": "code",
   "execution_count": 53,
   "id": "0485d1b7",
   "metadata": {},
   "outputs": [
    {
     "name": "stdout",
     "output_type": "stream",
     "text": [
      "나이를 입력하시오:16\n",
      "키를 입력하시오(단위 cm):167\n",
      "입장할 수 없습니다\n"
     ]
    }
   ],
   "source": [
    "#3.3\n",
    "\n",
    "age = int(input(\"나이를 입력하시오:\"))\n",
    "height = int(input(\"키를 입력하시오(단위 cm):\"))\n",
    "\n",
    "if age >= 19 and height >= 150:\n",
    "    print(\"입장할 수 있습니다\")\n",
    "else:\n",
    "    print(\"입장할 수 없습니다\")"
   ]
  },
  {
   "cell_type": "code",
   "execution_count": 55,
   "id": "c50ef717",
   "metadata": {},
   "outputs": [
    {
     "name": "stdout",
     "output_type": "stream",
     "text": [
      "두 정수를 입력하시오:99 12\n",
      "12 99\n"
     ]
    }
   ],
   "source": [
    "#3.5\n",
    "\n",
    "a,b = map(int,input(\"두 정수를 입력하시오:\").split())\n",
    "\n",
    "if a>b:\n",
    "    print(b, a)\n",
    "else:\n",
    "    print(a, b)"
   ]
  },
  {
   "cell_type": "code",
   "execution_count": 58,
   "id": "3afeb988",
   "metadata": {},
   "outputs": [
    {
     "name": "stdout",
     "output_type": "stream",
     "text": [
      "게임점수를 입력하시오:1004\n",
      "고수입니다\n"
     ]
    }
   ],
   "source": [
    "#3.7\n",
    "\n",
    "game_score = int(input(\"게임점수를 입력하시오:\"))\n",
    "\n",
    "if game_score >= 1000:\n",
    "    print(\"고수입니다\")\n",
    "else:\n",
    "    print(\"입문자입니다\")"
   ]
  },
  {
   "cell_type": "code",
   "execution_count": 62,
   "id": "af2f89f6",
   "metadata": {},
   "outputs": [
    {
     "name": "stdout",
     "output_type": "stream",
     "text": [
      "정수를 입력하시오:12\n",
      "12 는(은) 2로 나누어집니다\n",
      "12 는(은) 3으로 나누어집니다\n",
      "12 는(은) 2와 3 모두로 나누어집니다\n"
     ]
    }
   ],
   "source": [
    "#3.9 - 다른 코드 찾아보기\n",
    "\n",
    "n = int(input('정수를 입력하시오:'))\n",
    "\n",
    "if n%2==0 and n%3==0:\n",
    "    print(n,'는(은) 2로 나누어집니다')\n",
    "    print(n,'는(은) 3으로 나누어집니다')\n",
    "    print(n,\"는(은) 2와 3 모두로 나누어집니다\")\n",
    "elif n%2!=0 and n%3!=0:\n",
    "    print(n,'는(은) 2로 나누어지지 않습니다')\n",
    "    print(n,'는(은) 3으로 나누어지지 않습니다')\n",
    "    print(n,'는(은) 2와 3 모두로 나누어지지 않습니다')\n",
    "elif n%2!=0 and n%3==0:\n",
    "    print(n,'는(은) 2로 나누어지지 않습니다')\n",
    "    print(n,'는(은) 3으로 나누어집니다')\n",
    "    print(n,'는(은) 2와 3 모두로 나누어지지 않습니다')\n",
    "else:\n",
    "    print(n,'는(은) 2로 나누어집니다')\n",
    "    print(n,'는(은) 3으로 나누어지지 않습니다')\n",
    "    print(n,'는(은) 2와 3 모두로 나누어지지 않습니다')"
   ]
  },
  {
   "cell_type": "code",
   "execution_count": 107,
   "id": "bb3c58dc",
   "metadata": {},
   "outputs": [
    {
     "name": "stdout",
     "output_type": "stream",
     "text": [
      "정수를 입력하시오:12\n",
      "12 은 2로 나누어집니다\n",
      "12 은 3으로 나누어집니다\n",
      "12 은 2와 3으로 나누어집니다\n"
     ]
    }
   ],
   "source": [
    "#3.9 - rt\n",
    "\n",
    "n = int(input('정수를 입력하시오:'))\n",
    "\n",
    "if n%2==0:\n",
    "    print(n,'은 2로 나누어집니다')\n",
    "else:\n",
    "    print(n,'은 2로 나누어지지 않습니다')\n",
    "    \n",
    "if n%3==0:\n",
    "    print(n,'은 3으로 나누어집니다')\n",
    "else:\n",
    "    print(n,'은 3으로 나누어지지 않습니다')\n",
    "    \n",
    "if n%2==0 and n%3==0:\n",
    "    print(n,'은 2와 3으로 나누어집니다')\n",
    "else:\n",
    "    print(n,'은 2와 3으로 나누어지지 않습니다')"
   ]
  },
  {
   "cell_type": "code",
   "execution_count": 117,
   "id": "f690be7c",
   "metadata": {},
   "outputs": [
    {
     "name": "stdout",
     "output_type": "stream",
     "text": [
      "11\n",
      "25\n",
      "37\n",
      "다음 기회에...\n"
     ]
    }
   ],
   "source": [
    "#3.11 - rt\n",
    "\n",
    "n1 = int(input('1'))\n",
    "n2 = int(input('2'))\n",
    "n3 = int(input('3'))\n",
    "\n",
    "n = [2, 3, 9]\n",
    "prize = 0\n",
    "\n",
    "for i in [n1, n2, n3]:\n",
    "    if i in n:\n",
    "        prize+=1\n",
    "\n",
    "if prize==0:\n",
    "    print('다음 기회에...')\n",
    "if prize==1:\n",
    "    print('상금 1만 원')\n",
    "if prize==2:\n",
    "    print('상금 1천만 원')\n",
    "if prize==3:\n",
    "    print('상금 1억 원')"
   ]
  },
  {
   "cell_type": "code",
   "execution_count": null,
   "id": "ba2ff67f",
   "metadata": {},
   "outputs": [],
   "source": [
    "#3.13\n",
    "\n",
    "x,y = map(int,input('점의 좌표 x, y를 입력하시오:').split())\n",
    "\n",
    "distance = ((x-3)**2+(y-4)**2)**(1/2)\n",
    "\n",
    "if distance > 10:\n",
    "    print('원의 외부에 있음')\n",
    "else:\n",
    "    print('원의 내부에 있음')"
   ]
  },
  {
   "cell_type": "code",
   "execution_count": 74,
   "id": "94d2e40a",
   "metadata": {},
   "outputs": [
    {
     "name": "stdout",
     "output_type": "stream",
     "text": [
      "2 * 1 = 2\n",
      "2 * 2 = 4\n",
      "2 * 3 = 6\n",
      "2 * 4 = 8\n",
      "2 * 5 = 10\n",
      "2 * 6 = 12\n",
      "2 * 7 = 14\n",
      "2 * 8 = 16\n",
      "2 * 9 = 18\n"
     ]
    }
   ],
   "source": [
    "#3.15-1\n",
    "\n",
    "for i in range(1,10):\n",
    "    print('2 *',i,'=',2*i)"
   ]
  },
  {
   "cell_type": "code",
   "execution_count": 77,
   "id": "d6d49e8e",
   "metadata": {},
   "outputs": [
    {
     "name": "stdout",
     "output_type": "stream",
     "text": [
      "2 * 1 = 2\n",
      "2 * 2 = 4\n",
      "2 * 3 = 6\n",
      "2 * 4 = 8\n",
      "2 * 5 = 10\n",
      "2 * 6 = 12\n",
      "2 * 7 = 14\n",
      "2 * 8 = 16\n",
      "2 * 9 = 18\n"
     ]
    }
   ],
   "source": [
    "#3.15-2 ert\n",
    "\n",
    "i = 0\n",
    "\n",
    "while i < 9:\n",
    "    i+=1\n",
    "    print('2 *',i,'=',2*i)"
   ]
  },
  {
   "cell_type": "code",
   "execution_count": 80,
   "id": "cc01c379",
   "metadata": {},
   "outputs": [
    {
     "name": "stdout",
     "output_type": "stream",
     "text": [
      "Python \n",
      "is \n",
      "FUN! \n",
      "Python \n",
      "is \n",
      "FUN! \n",
      "Python \n",
      "is \n",
      "FUN! \n",
      "Python \n",
      "is \n",
      "Python \n",
      "is \n",
      "Python \n",
      "is \n",
      "FUN!\n",
      "Python \n",
      "Python \n",
      "Python \n",
      "is \n",
      "FUN!\n"
     ]
    }
   ],
   "source": [
    "#3.17\n",
    "\n",
    "for i in range(3):\n",
    "    print('Python ')\n",
    "    print('is ')\n",
    "    print('FUN! ')\n",
    "    \n",
    "for i in range(3):\n",
    "    print('Python ')\n",
    "    print('is ')\n",
    "print('FUN!')\n",
    "\n",
    "for i in range(3):\n",
    "    print('Python ')\n",
    "print('is ')\n",
    "print('FUN!')"
   ]
  },
  {
   "cell_type": "code",
   "execution_count": 104,
   "id": "035fb330",
   "metadata": {},
   "outputs": [
    {
     "name": "stdout",
     "output_type": "stream",
     "text": [
      "맛나 식당에 오신 것을 환영합니다. 메뉴는 다음과 같습니다.\n",
      "- 햄버거(입력 b)\n",
      "- 치킨(입력 c)\n",
      "- 피자(입력 p)\n",
      "메뉴를 선택하세요(알파벳 b,c,p 입력):x\n",
      "메뉴를 선택하세요(알파벳 b,c,p 입력):c\n",
      "치킨을 선택하였습니다\n"
     ]
    }
   ],
   "source": [
    "#3.19 -rt\n",
    "\n",
    "print('맛나 식당에 오신 것을 환영합니다. 메뉴는 다음과 같습니다.')\n",
    "print('- 햄버거(입력 b)')\n",
    "print('- 치킨(입력 c)')\n",
    "print('- 피자(입력 p)')\n",
    "\n",
    "menu = input('메뉴를 선택하세요(알파벳 b,c,p 입력):')\n",
    "\n",
    "while menu not in ['b', 'c', 'p']:\n",
    "    menu = input('메뉴를 선택하세요(알파벳 b,c,p 입력):')\n",
    "\n",
    "if menu == 'b':\n",
    "    print('햄버거를 선택하였습니다')\n",
    "elif menu == 'c':\n",
    "    print('치킨을 선택하였습니다')\n",
    "elif menu == 'p':\n",
    "    print('피자를 선택하였습니다')\n",
    "else:\n",
    "    print(input('메뉴를 선택하세요(알파벳 b,c,p 입력):'))\n",
    "        "
   ]
  },
  {
   "cell_type": "code",
   "execution_count": 116,
   "id": "dc83f40c",
   "metadata": {},
   "outputs": [
    {
     "name": "stdout",
     "output_type": "stream",
     "text": [
      "세 복권번호를 입력하시오:1 2 7\n",
      "상금 1만 원\n"
     ]
    }
   ],
   "source": [
    "#3.11 - rt\n",
    "\n",
    "'''n1 = int(input('1'))\n",
    "n2 = int(input('2'))\n",
    "n3 = int(input('3'))'''\n",
    "\n",
    "n1,n2,n3 = map(int,input('세 복권번호를 입력하시오:').split())\n",
    "n = [2, 3, 9]\n",
    "prize = 0\n",
    "\n",
    "for i in [n1, n2, n3]:\n",
    "    if i in n:\n",
    "        prize+=1\n",
    "\n",
    "if prize==0:\n",
    "    print('다음 기회에...')\n",
    "if prize==1:\n",
    "    print('상금 1만 원')\n",
    "if prize==2:\n",
    "    print('상금 1천만 원')\n",
    "if prize==3:\n",
    "    print('상금 1억 원')"
   ]
  },
  {
   "cell_type": "code",
   "execution_count": 122,
   "id": "33ed6441",
   "metadata": {},
   "outputs": [
    {
     "name": "stdout",
     "output_type": "stream",
     "text": [
      "숫자를 입력하세요:9\n",
      "9 는 소수가 아닙니다\n"
     ]
    }
   ],
   "source": [
    "#3.21 - rt\n",
    "\n",
    "n = int(input('숫자를 입력하세요:'))\n",
    "\n",
    "for i in range(2,n):\n",
    "    if n%i==0:\n",
    "        x=True\n",
    "        \n",
    "if x==True:\n",
    "    print(n,'는 소수가 아닙니다')\n",
    "else:\n",
    "    print(n,'는 소수입니다')"
   ]
  },
  {
   "cell_type": "code",
   "execution_count": 123,
   "id": "7aa2f960",
   "metadata": {},
   "outputs": [
    {
     "name": "stdout",
     "output_type": "stream",
     "text": [
      "숫자를 입력하세요:5\n",
      "결과는 55입니다\n"
     ]
    }
   ],
   "source": [
    "#3.23\n",
    "\n",
    "n = int(input('숫자를 입력하세요:'))\n",
    "\n",
    "result = 0\n",
    "\n",
    "for i in range(1,n+1):\n",
    "    result += (i**2)\n",
    "    \n",
    "print('결과는 {}입니다'.format(result))"
   ]
  },
  {
   "cell_type": "code",
   "execution_count": 127,
   "id": "c7e12521",
   "metadata": {},
   "outputs": [
    {
     "name": "stdout",
     "output_type": "stream",
     "text": [
      "day: 2  달팽이의 위치: 9미터\n",
      "day: 3  달팽이의 위치: 11미터\n",
      "day: 4  달팽이의 위치: 13미터\n",
      "day: 5  달팽이의 위치: 15미터\n",
      "day: 6  달팽이의 위치: 17미터\n",
      "day: 7  달팽이의 위치: 19미터\n",
      "day: 8  달팽이의 위치: 21미터\n",
      "day: 9  달팽이의 위치: 23미터\n",
      "day: 10  달팽이의 위치: 25미터\n",
      "day: 11  달팽이의 위치: 27미터\n",
      "day: 12  달팽이의 위치: 29미터\n",
      "day: 13  달팽이의 위치: 31미터\n",
      "우물을 탈출하는데 걸린 날은 13 일 입니다\n"
     ]
    }
   ],
   "source": [
    "#3.25 - rt\n",
    "\n",
    "m = 7\n",
    "day = 1\n",
    "\n",
    "while m<=30:\n",
    "    m += 2\n",
    "    day += 1\n",
    "    print('day: {}  달팽이의 위치: {}미터'.format(day,m))\n",
    "    \n",
    "print('우물을 탈출하는데 걸린 날은',day,'일 입니다')"
   ]
  },
  {
   "cell_type": "code",
   "execution_count": 136,
   "id": "a3ef0dc2",
   "metadata": {},
   "outputs": [
    {
     "name": "stdout",
     "output_type": "stream",
     "text": [
      "세 자리의 암스트롱 수: [153, 370, 371, 407]\n",
      "세 자리의 암스트롱 수: 2187\n"
     ]
    }
   ],
   "source": [
    "#3.27 - rt\n",
    "\n",
    "i_list=[]\n",
    "\n",
    "for i in range(100,1000,1):\n",
    "    \n",
    "    a = i // 100\n",
    "    b = (i % 100) // 10\n",
    "    c = ((i % 100) % 10)\n",
    "\n",
    "    n = a**3 + b**3 + c**3\n",
    "    \n",
    "    if n == i:\n",
    "        i_list.append(i)\n",
    "print('세 자리의 암스트롱 수:',i_list)\n"
   ]
  },
  {
   "cell_type": "code",
   "execution_count": null,
   "id": "b2859b3d",
   "metadata": {},
   "outputs": [
    {
     "name": "stdout",
     "output_type": "stream",
     "text": [
      "충전 또는 사용한 연료를 +/- 기호와 함께 입력하시오:+60\n",
      "현재 탱크양은 560입니다\n",
      "충전 또는 사용한 연료를 +/- 기호와 함께 입력하시오:-300\n",
      "현재 탱크양은 200입니다\n"
     ]
    }
   ],
   "source": [
    "#3.29 - rt\n",
    "\n",
    "fuel = 500\n",
    "tank = 50\n",
    "\n",
    "while tank>=50:\n",
    "    a = int(input('충전 또는 사용한 연료를 +/- 기호와 함께 입력하시오:'))\n",
    "    a = a + fuel\n",
    "    \n",
    "    if tank >= 50:\n",
    "        print('현재 탱크양은 {}입니다'.format(a))\n",
    "    else:\n",
    "        print('현재 탱크양은 {}입니다'.format(a))\n",
    "        print('경고 : 연료가 10% 미만이니 충전하세요!')"
   ]
  },
  {
   "cell_type": "code",
   "execution_count": 3,
   "id": "532c496b",
   "metadata": {},
   "outputs": [
    {
     "data": {
      "text/plain": [
       "'환영합니다'"
      ]
     },
     "execution_count": 3,
     "metadata": {},
     "output_type": "execute_result"
    }
   ],
   "source": [
    "#4.1\n",
    "\n",
    "def my_greet():\n",
    "    return print('환영합니다')\n",
    "\n",
    "my_greet()\n",
    "my_greet()"
   ]
  },
  {
   "cell_type": "code",
   "execution_count": 5,
   "id": "c32a7d47",
   "metadata": {},
   "outputs": [
    {
     "name": "stdout",
     "output_type": "stream",
     "text": [
      "100과 200 중 큰 수는: 200\n",
      "100과 200 중 작은 수는: 100\n"
     ]
    }
   ],
   "source": [
    "#4.3\n",
    "\n",
    "m,n = (100, 200)\n",
    "\n",
    "def max2(m,n):\n",
    "    if m>n:\n",
    "        return m\n",
    "    else:\n",
    "        return n\n",
    "\n",
    "def min2(m,n):\n",
    "    if m<n:\n",
    "        return m\n",
    "    else:\n",
    "        return n\n",
    "    \n",
    "print('100과 200 중 큰 수는:',max2(m,n))\n",
    "print('100과 200 중 작은 수는:',min2(m,n))"
   ]
  },
  {
   "cell_type": "code",
   "execution_count": 31,
   "id": "7281e421",
   "metadata": {},
   "outputs": [],
   "source": [
    "#4.5 - rt\n",
    "\n",
    "#1inch = 2.54cm\n",
    "\n",
    "def inch2cm(i,cm):\n",
    "    for i in range():\n",
    "        i += 1\n",
    "        cm = i * 2.54\n",
    "    return i, cm\n",
    "\n",
    "\n",
    "    print(i,'인치 =',cm, '센티미터')"
   ]
  },
  {
   "cell_type": "code",
   "execution_count": 37,
   "id": "b6fc19d5",
   "metadata": {},
   "outputs": [
    {
     "name": "stdout",
     "output_type": "stream",
     "text": [
      "세 수를 입력하시오:10 30 20\n",
      "10 30 20 의 평균값은 20.0\n",
      "10 30 20 의 최댓값은 30\n",
      "10 30 20 의 최솟값은 10\n"
     ]
    }
   ],
   "source": [
    "#4.7\n",
    "\n",
    "a,b,c = map(int,input('세 수를 입력하시오:').split())\n",
    "\n",
    "def mean3(a,b,c):\n",
    "    avg = (a+b+c)/3\n",
    "    return avg\n",
    "\n",
    "def max3(a,b,c):\n",
    "    return max(a,b,c)\n",
    "\n",
    "def min3(a,b,c):\n",
    "    return min(a,b,c)\n",
    "\n",
    "print(a,b,c,'의 평균값은',mean3(a,b,c))\n",
    "print(a,b,c,'의 최댓값은',max3(a,b,c))\n",
    "print(a,b,c,'의 최솟값은',min3(a,b,c))"
   ]
  },
  {
   "cell_type": "code",
   "execution_count": 48,
   "id": "fe35aa4d",
   "metadata": {},
   "outputs": [
    {
     "name": "stdout",
     "output_type": "stream",
     "text": [
      "정수를 여러 개 입력하시오:3 45 32 5 7 8 4 44 5 90 17\n",
      "평균값은 23.636363636363637\n",
      "최댓값은 90\n",
      "최솟값은 3\n"
     ]
    }
   ],
   "source": [
    "#4.9 - rt\n",
    "\n",
    "#nums_list = []\n",
    "\n",
    "nums = list(map(int,input('정수를 여러 개 입력하시오:').split()))  #map 문 앞에 list 붙이면 입력수들을 자동으로 list에 집어넣음\n",
    "#nums_list.append(nums)\n",
    "\n",
    "def mean_of_n(nums):\n",
    "    mean1 = sum(nums)/len(nums)\n",
    "    return mean1\n",
    "\n",
    "def max_of_n(nums):\n",
    "    max1 = max(nums)\n",
    "    return max1\n",
    "\n",
    "def min_of_n(nums):\n",
    "    min1 = min(nums)\n",
    "    return min1\n",
    "\n",
    "mean1 = mean_of_n(nums)\n",
    "max1 = max_of_n(nums)\n",
    "min1 = min_of_n(nums)\n",
    "\n",
    "print('평균값은 {}\\n최댓값은 {}\\n최솟값은 {}'.format(mean1,max1,min1))\n",
    "\n",
    "\n",
    "#3 45 32 5 7 8 4 44 5 90 17"
   ]
  },
  {
   "cell_type": "code",
   "execution_count": 50,
   "id": "bd1d82c3",
   "metadata": {},
   "outputs": [
    {
     "name": "stdout",
     "output_type": "stream",
     "text": [
      "x1 좌표를 입력하시오:0\n",
      "y1 좌표를 입력하시오:0\n",
      "x2 좌표를 입력하시오:3\n",
      "y2 좌표를 입력하시오:4\n",
      "직각삼각형의 면적은: 6.0\n"
     ]
    }
   ],
   "source": [
    "#4.11\n",
    "\n",
    "x1 = int(input('x1 좌표를 입력하시오:'))\n",
    "y1 = int(input('y1 좌표를 입력하시오:'))\n",
    "x2 = int(input('x2 좌표를 입력하시오:'))\n",
    "y2 = int(input('y2 좌표를 입력하시오:'))\n",
    "\n",
    "def area(x1,y1,x2,y2):\n",
    "    area1 = ((x2-x1)*(y2-y1))*1/2\n",
    "    return area1\n",
    "\n",
    "area1 = area(x1,y1,x2,y2)\n",
    "\n",
    "print('직각삼각형의 면적은: {}'.format(area1))"
   ]
  },
  {
   "cell_type": "code",
   "execution_count": 52,
   "id": "be088ab9",
   "metadata": {},
   "outputs": [
    {
     "name": "stdout",
     "output_type": "stream",
     "text": [
      "모서리의 길이를 입력하시오:20\n",
      "모서리의 길이가 20인 정육면체의 부피는 8000입니다\n"
     ]
    }
   ],
   "source": [
    "#4.13-(1),(2)\n",
    "\n",
    "s = int(input('모서리의 길이를 입력하시오:'))\n",
    "\n",
    "def volume(s):\n",
    "    volume1 = s**3\n",
    "    return volume1\n",
    "\n",
    "volume1 = volume(s)\n",
    "\n",
    "print('모서리의 길이가 {}인 정육면체의 부피는 {}입니다'.format(s,volume1))"
   ]
  },
  {
   "cell_type": "code",
   "execution_count": 53,
   "id": "b4fced06",
   "metadata": {},
   "outputs": [
    {
     "name": "stdout",
     "output_type": "stream",
     "text": [
      "가로의 길이를 입력하시오:3\n",
      "세로의 길이를 입력하시오:5\n",
      "깊이의 길이를 입력하시오:6\n",
      "가로, 세로, 깊이가 각각 3,5,6인 직육면체의 부피는 90입니다\n"
     ]
    }
   ],
   "source": [
    "#4.13-(3)\n",
    "\n",
    "w = int(input('가로의 길이를 입력하시오:'))\n",
    "h = int(input('세로의 길이를 입력하시오:'))\n",
    "l = int(input('깊이의 길이를 입력하시오:'))\n",
    "\n",
    "def volume(w,h,l):\n",
    "    v = w*h*l\n",
    "    return v\n",
    "\n",
    "v = volume(w,h,l)\n",
    "\n",
    "print('가로, 세로, 깊이가 각각 {},{},{}인 직육면체의 부피는 {}입니다'.format(w,h,l,v))"
   ]
  },
  {
   "cell_type": "code",
   "execution_count": 58,
   "id": "e81b9662",
   "metadata": {},
   "outputs": [
    {
     "name": "stdout",
     "output_type": "stream",
     "text": [
      "원뿔의 반지름을 입력하시오:20\n",
      "원뿔의 높이를 입력하시오:10\n",
      "반지름과 높이가 각각 20,10인 원뿔의 부피는 4186.666666666666입니다\n"
     ]
    }
   ],
   "source": [
    "#4.13-(4)\n",
    "\n",
    "r = int(input('원뿔의 반지름을 입력하시오:'))\n",
    "h = int(input('원뿔의 높이를 입력하시오:'))\n",
    "\n",
    "PI = 3.14\n",
    "\n",
    "def volume(r,h):\n",
    "    v = (1/3) * PI * (r**2) * h\n",
    "    return v\n",
    "\n",
    "v = volume(r,h)\n",
    "print('반지름과 높이가 각각 {},{}인 원뿔의 부피는 {}입니다'.format(r,h,v))"
   ]
  },
  {
   "cell_type": "code",
   "execution_count": 59,
   "id": "3138bd88",
   "metadata": {},
   "outputs": [
    {
     "name": "stdout",
     "output_type": "stream",
     "text": [
      "구의 반지름을 입력하시오:15\n",
      "반지름이 15인 구의 부피는 14130.0입니다\n"
     ]
    }
   ],
   "source": [
    "#4.13-(5)\n",
    "\n",
    "PI = 3.14\n",
    "\n",
    "r = int(input('구의 반지름을 입력하시오:'))\n",
    "\n",
    "def volume(r):\n",
    "    v = (4/3)*PI*(r**3)\n",
    "    return v\n",
    "\n",
    "v = volume(r)\n",
    "\n",
    "print('반지름이 {}인 구의 부피는 {}입니다'.format(r,v))"
   ]
  },
  {
   "cell_type": "code",
   "execution_count": 60,
   "id": "08cc0331",
   "metadata": {},
   "outputs": [
    {
     "name": "stdout",
     "output_type": "stream",
     "text": [
      "원기둥의 반지름을 입력하시오:20\n",
      "원기둥의 높이를 입력하시오:10\n",
      "반지름과 높이가 각각 20,10인 원기둥의 부피는 12560.0입니다\n"
     ]
    }
   ],
   "source": [
    "#4.13-(6)\n",
    "\n",
    "PI = 3.14\n",
    "\n",
    "r = int(input('원기둥의 반지름을 입력하시오:'))\n",
    "h = int(input('원기둥의 높이를 입력하시오:'))\n",
    "\n",
    "def volume(r,h):\n",
    "    v = PI * (r**2) * h\n",
    "    return v\n",
    "\n",
    "v = volume(r,h)\n",
    "\n",
    "print('반지름과 높이가 각각 {},{}인 원기둥의 부피는 {}입니다'.format(r,h,v))"
   ]
  },
  {
   "cell_type": "code",
   "execution_count": 61,
   "id": "83b9a006",
   "metadata": {},
   "outputs": [
    {
     "name": "stdout",
     "output_type": "stream",
     "text": [
      "숫자 입력:45 3 4 56 5\n"
     ]
    },
    {
     "ename": "AttributeError",
     "evalue": "'tuple' object has no attribute 'sort'",
     "output_type": "error",
     "traceback": [
      "\u001b[0;31m---------------------------------------------------------------------------\u001b[0m",
      "\u001b[0;31mAttributeError\u001b[0m                            Traceback (most recent call last)",
      "Cell \u001b[0;32mIn[61], line 9\u001b[0m\n\u001b[1;32m      6\u001b[0m     num1 \u001b[38;5;241m=\u001b[39m nums\u001b[38;5;241m.\u001b[39msort()\n\u001b[1;32m      7\u001b[0m     \u001b[38;5;28;01mreturn\u001b[39;00m num1\n\u001b[0;32m----> 9\u001b[0m num1 \u001b[38;5;241m=\u001b[39m \u001b[43mmy_sort\u001b[49m\u001b[43m(\u001b[49m\u001b[38;5;241;43m*\u001b[39;49m\u001b[43mnums\u001b[49m\u001b[43m)\u001b[49m\n\u001b[1;32m     11\u001b[0m \u001b[38;5;28mprint\u001b[39m(num1)\n",
      "Cell \u001b[0;32mIn[61], line 6\u001b[0m, in \u001b[0;36mmy_sort\u001b[0;34m(*nums)\u001b[0m\n\u001b[1;32m      5\u001b[0m \u001b[38;5;28;01mdef\u001b[39;00m \u001b[38;5;21mmy_sort\u001b[39m(\u001b[38;5;241m*\u001b[39mnums):\n\u001b[0;32m----> 6\u001b[0m     num1 \u001b[38;5;241m=\u001b[39m \u001b[43mnums\u001b[49m\u001b[38;5;241;43m.\u001b[39;49m\u001b[43msort\u001b[49m()\n\u001b[1;32m      7\u001b[0m     \u001b[38;5;28;01mreturn\u001b[39;00m num1\n",
      "\u001b[0;31mAttributeError\u001b[0m: 'tuple' object has no attribute 'sort'"
     ]
    }
   ],
   "source": [
    "#4.15-rt\n",
    "\n",
    "#nums = list(map(int,input('숫자 입력:').split())) 사용하면 튜플이 없다고 error\n",
    "#name.sort() 사용하면 리스트 내 원소들 오름차순 정렬 가능 \n",
    "\n",
    "\n",
    "def my_sort(*nums):\n",
    "    my_sort = []\n",
    "    for i in nums:\n",
    "        my_sort.append(i)\n",
    "        my_sort.sort()\n",
    "    return my_sort\n",
    "\n",
    "\n",
    "#45 3 4 56 5"
   ]
  },
  {
   "cell_type": "code",
   "execution_count": 70,
   "id": "5bdebcc5",
   "metadata": {},
   "outputs": [
    {
     "name": "stdout",
     "output_type": "stream",
     "text": [
      "10 에서 20 까지의 정수의 합: 165\n"
     ]
    }
   ],
   "source": [
    "#4.17-rt\n",
    "\n",
    "\n",
    "def sum_range(n1,n2):\n",
    "    sum1 = 0\n",
    "    for i in range(n1,n2+1):\n",
    "        sum1 += i\n",
    "    return sum1\n",
    "\n",
    "#sum = sum_range(n1,n2) ; n1 n2를 내가 따로 지정하지 않았으므로 저렇게 쓰면 함수가 정의되지 않아서 오류가 뜸.. 아마도\n",
    "\n",
    "n1=10\n",
    "n2=20\n",
    "#print(n1,'에서',n2,'까지의 정수의 합:',sum1) ;; 얘는 왜 실행 안 되냐\n",
    "print(n1,'에서',n2,'까지의 정수의 합:',sum_range(n1,n2))"
   ]
  },
  {
   "cell_type": "code",
   "execution_count": 8,
   "id": "5be6bf11",
   "metadata": {},
   "outputs": [
    {
     "name": "stdout",
     "output_type": "stream",
     "text": [
      "fibo(n)의 n을 입력하세요:4\n",
      "fibo( 4 )= 5\n"
     ]
    }
   ],
   "source": [
    "#4.19\n",
    "\n",
    "\n",
    "\n",
    "def fibo(n):\n",
    "    if n <= 1:\n",
    "        return 1\n",
    "    else:\n",
    "        return fibo(n-1) + fibo(n-2)\n",
    "    \n",
    "n = int(input('fibo(n)의 n을 입력하세요:'))\n",
    "\n",
    "print('fibo(',n,')=',fibo(n))"
   ]
  },
  {
   "cell_type": "code",
   "execution_count": 13,
   "id": "d501c984",
   "metadata": {},
   "outputs": [
    {
     "name": "stdout",
     "output_type": "stream",
     "text": [
      "주민등록번호 첫 6숫자 형식 입력:020219\n",
      "2002 년 02 월 19 일\n"
     ]
    }
   ],
   "source": [
    "#4.21\n",
    "\n",
    "nums = input('주민등록번호 첫 6숫자 형식 입력:')\n",
    "\n",
    "yr = nums[0:2]\n",
    "mon = nums[2:4]\n",
    "day = nums[4:6]\n",
    "\n",
    "if yr < str(50):   #str 주의 \n",
    "    year = '20'+yr\n",
    "else:\n",
    "    year = '19'+yr\n",
    "    \n",
    "print(year,'년',mon,'월',day,'일')"
   ]
  },
  {
   "cell_type": "code",
   "execution_count": null,
   "id": "4d9da6ec",
   "metadata": {},
   "outputs": [],
   "source": []
  }
 ],
 "metadata": {
  "kernelspec": {
   "display_name": "Python 3 (ipykernel)",
   "language": "python",
   "name": "python3"
  },
  "language_info": {
   "codemirror_mode": {
    "name": "ipython",
    "version": 3
   },
   "file_extension": ".py",
   "mimetype": "text/x-python",
   "name": "python",
   "nbconvert_exporter": "python",
   "pygments_lexer": "ipython3",
   "version": "3.9.13"
  }
 },
 "nbformat": 4,
 "nbformat_minor": 5
}
