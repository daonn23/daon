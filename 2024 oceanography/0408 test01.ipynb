{
 "cells": [
  {
   "cell_type": "code",
   "execution_count": null,
   "id": "fa90b4ff",
   "metadata": {},
   "outputs": [],
   "source": [
    "a, b, c = map(int,input(\"생년월일을 입력하시오: \").split())\n",
    "\n",
    "#2000년 1월 1일부터 날 수를 구함\n",
    "def julian(year, month, day):\n",
    "    if year >= 2000 and year < 2024:\n",
    "        days = (year-2000)*365 + (month-1)*30 + (day-1)\n",
    "        return days\n",
    "  \n",
    "        \n",
    "d = julian(a, b, c)\n",
    "print(\"{}번째 날입니다\".format(d))"
   ]
  },
  {
   "cell_type": "code",
   "execution_count": 34,
   "id": "5bdc086c",
   "metadata": {},
   "outputs": [
    {
     "name": "stdout",
     "output_type": "stream",
     "text": [
      "8516번째 날입니다\n"
     ]
    }
   ],
   "source": [
    "def julian(year, month, day):\n",
    "    if year >= 2000 and year < 2024:\n",
    "        return (year-2000)*365 + (month-1)*30 +day\n",
    "    else:\n",
    "        return -999\n",
    "\n",
    "        \n",
    "days = julian(2023, 5, 1)\n",
    "print(\"{}번째 날입니다\".format(days))"
   ]
  },
  {
   "cell_type": "markdown",
   "id": "2a035af0",
   "metadata": {},
   "source": []
  },
  {
   "cell_type": "code",
   "execution_count": 39,
   "id": "33048c22",
   "metadata": {},
   "outputs": [
    {
     "name": "stdout",
     "output_type": "stream",
     "text": [
      "761번째 날입니다\n"
     ]
    }
   ],
   "source": [
    "def julian(year, month, day):\n",
    "    if year >= 2000 and year < 2024:\n",
    "        jdays = 0\n",
    "        jdays = (year-2000) * 365\n",
    "        for m in range(1,month): #윤년 계산하기\n",
    "            if m == 1 or m ==3 or m == 5 or m == 7 or m == 8 or m == 10 or m == 12:\n",
    "                jdays = jdays + 31\n",
    "            elif m == 2:\n",
    "                jdays = jdays + 28\n",
    "            else:\n",
    "                jdays = jdays + 30\n",
    "        return jdays\n",
    "    else:\n",
    "        return -999\n",
    "\n",
    "        \n",
    "days = julian(2002, 2, 19)\n",
    "print(\"{}번째 날입니다\".format(days))"
   ]
  },
  {
   "cell_type": "code",
   "execution_count": 53,
   "id": "4bdd8e4a",
   "metadata": {},
   "outputs": [
    {
     "name": "stdout",
     "output_type": "stream",
     "text": [
      "1216번째 날입니다\n"
     ]
    }
   ],
   "source": [
    "def julian(year, month, day):\n",
    "    if year >= 2000 and year < 2024:\n",
    "        jdays = 0\n",
    "        \n",
    "        #윤년 계산하기\n",
    "        for y in range(2000,year): \n",
    "            if y % 4 == 0 and y % 100 != 0 or y % 400 == 0:\n",
    "                jdays += 366\n",
    "            else:\n",
    "                jdays += 365\n",
    "        \n",
    "        \n",
    "        for m in range(1,month):\n",
    "            if m == 1 or m ==3 or m == 5 or m == 7 or m == 8 or m == 10 or m == 12:\n",
    "                jdays = jdays + 31\n",
    "            elif m == 2:\n",
    "                if y % 4 == 0 and y % 100 != 0 or y % 400 == 0:\n",
    "                    jdays = jdays + 29\n",
    "                else:\n",
    "                    jdays += 28\n",
    "            else:\n",
    "                jdays = jdays + 30\n",
    "        \n",
    "        return jdays\n",
    "        \n",
    "    else:\n",
    "        return -999\n",
    "\n",
    "        \n",
    "days = julian(2003, 5, 1)\n",
    "print(\"{}번째 날입니다\".format(days))"
   ]
  },
  {
   "cell_type": "code",
   "execution_count": null,
   "id": "d2c13a35",
   "metadata": {},
   "outputs": [],
   "source": []
  },
  {
   "cell_type": "code",
   "execution_count": 59,
   "id": "3e45d03a",
   "metadata": {},
   "outputs": [
    {
     "name": "stdout",
     "output_type": "stream",
     "text": [
      "(20,60)\n"
     ]
    }
   ],
   "source": [
    "class Vector2D:\n",
    "    def __init__(self,x,y):\n",
    "        self.x = x\n",
    "        self.y = y\n",
    "    def mult(self,other):\n",
    "        return Vector2D(self.x*other.x,self.y*other.y)\n",
    "    def __str__(self):\n",
    "        return \"({},{})\".format(self.x, self.y)\n",
    "\n",
    "def vect_mul(v1,v2):\n",
    "    v3 = v1.mult(v2)\n",
    "    return v3\n",
    "    \n",
    "a = Vector2D(10,20) \n",
    "b = Vector2D(2, 3)\n",
    "#self는 여기서의 a를 의미\n",
    "\n",
    "print(vect_mul(a, b))"
   ]
  },
  {
   "cell_type": "code",
   "execution_count": null,
   "id": "25bea0ee",
   "metadata": {},
   "outputs": [],
   "source": []
  }
 ],
 "metadata": {
  "kernelspec": {
   "display_name": "Python 3 (ipykernel)",
   "language": "python",
   "name": "python3"
  },
  "language_info": {
   "codemirror_mode": {
    "name": "ipython",
    "version": 3
   },
   "file_extension": ".py",
   "mimetype": "text/x-python",
   "name": "python",
   "nbconvert_exporter": "python",
   "pygments_lexer": "ipython3",
   "version": "3.9.13"
  }
 },
 "nbformat": 4,
 "nbformat_minor": 5
}
