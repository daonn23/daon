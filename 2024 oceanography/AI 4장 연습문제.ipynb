{
 "cells": [
  {
   "cell_type": "code",
   "execution_count": 1,
   "id": "4319fffc",
   "metadata": {},
   "outputs": [
    {
     "name": "stdout",
     "output_type": "stream",
     "text": [
      "환영합니다.\n",
      "환영합니다.\n"
     ]
    }
   ],
   "source": [
    "#4.1\n",
    "\n",
    "def my_greet():\n",
    "    print(\"환영합니다.\")\n",
    "    \n",
    "my_greet()\n",
    "my_greet()"
   ]
  },
  {
   "cell_type": "code",
   "execution_count": 7,
   "id": "68610304",
   "metadata": {},
   "outputs": [
    {
     "name": "stdout",
     "output_type": "stream",
     "text": [
      "100과 200 중 큰 수는:  200\n",
      "100과 200 중 작은 수는:  100\n"
     ]
    }
   ],
   "source": [
    "#4.3\n",
    "\n",
    "m=200\n",
    "n=100\n",
    "\n",
    "def max2(m,n):\n",
    "    if m>n:\n",
    "        return m\n",
    "    else:\n",
    "        return n\n",
    "\n",
    "def min2(m,n):\n",
    "    if m<n:\n",
    "        return m\n",
    "    else:\n",
    "        return n\n",
    "\n",
    "print(\"100과 200 중 큰 수는: \",m)\n",
    "print(\"100과 200 중 작은 수는: \",n)"
   ]
  },
  {
   "cell_type": "code",
   "execution_count": 15,
   "id": "10e6ea95",
   "metadata": {},
   "outputs": [
    {
     "name": "stdout",
     "output_type": "stream",
     "text": [
      "1 인치= 2.54 센티미터\n",
      "2 인치= 5.08 센티미터\n",
      "3 인치= 7.62 센티미터\n",
      "4 인치= 10.16 센티미터\n",
      "5 인치= 12.7 센티미터\n"
     ]
    }
   ],
   "source": [
    "#4.5\n",
    "\n",
    "def inch2cm():\n",
    "    cm=inch*2.54\n",
    "    return\n",
    "\n",
    "for i in range(0,5):\n",
    "    i += 1\n",
    "    cm=i*2.54\n",
    "    print(i,'인치=',cm,'센티미터')"
   ]
  },
  {
   "cell_type": "code",
   "execution_count": 21,
   "id": "590c7dd1",
   "metadata": {},
   "outputs": [
    {
     "name": "stdout",
     "output_type": "stream",
     "text": [
      "세 개의 숫자를 입력해 주세요: 10 30 20\n",
      "10 30 20 의 평균값은 20.0\n",
      "10 30 20 의 최댓값은 30\n",
      "10 30 20 의 최솟값은 10\n"
     ]
    }
   ],
   "source": [
    "#4.7\n",
    "\n",
    "a, b, c = map(int,input(\"세 개의 숫자를 입력해 주세요: \").split())\n",
    "#print(a, b, c)\n",
    "def get_m(a,b,c):\n",
    "    mean3=(a+b+c)/3\n",
    "    max3=max(a,b,c)\n",
    "    min3=min(a,b,c)\n",
    "    return mean3, max3, min3\n",
    "\n",
    "mean3, max3, min3 = get_m(a,b,c)\n",
    "\n",
    "print(a,b,c,'의 평균값은',mean3)\n",
    "print(a,b,c,'의 최댓값은',max3)\n",
    "print(a,b,c,'의 최솟값은',min3)"
   ]
  },
  {
   "cell_type": "code",
   "execution_count": 32,
   "id": "a8e0d1e4",
   "metadata": {},
   "outputs": [
    {
     "name": "stdout",
     "output_type": "stream",
     "text": [
      "정수를 여러 개 입력하시오: 3 45 32 5 7 8 4 44 5 90 17\n",
      "평균값은 23.6\n",
      "최댓값은 90\n",
      "최솟값은 3\n"
     ]
    }
   ],
   "source": [
    "#4.9\n",
    "\n",
    "nums=list(map(int,input('정수를 여러 개 입력하시오: ').split()))\n",
    "\n",
    "def mean_of_n(nums):\n",
    "    mean1=sum(nums)/len(nums)\n",
    "    return mean1\n",
    "\n",
    "def max_of_n(nums):\n",
    "    max1=max(nums)\n",
    "    return max1\n",
    "\n",
    "def min_of_n(nums):\n",
    "    min1=min(nums)\n",
    "    return min1\n",
    "\n",
    "mean1=mean_of_n(nums)\n",
    "max1=max_of_n(nums)\n",
    "min1=min_of_n(nums)\n",
    "\n",
    "print('평균값은',\"{:.1f}\".format(mean1))\n",
    "print('최댓값은',max1)\n",
    "print('최솟값은',min1)\n",
    "\n",
    "#3 45 32 5 7 8 4 44 5 90 17"
   ]
  },
  {
   "cell_type": "code",
   "execution_count": 33,
   "id": "adb90c08",
   "metadata": {},
   "outputs": [
    {
     "name": "stdout",
     "output_type": "stream",
     "text": [
      "x1 좌표를 입력하시오: 0\n",
      "y1 좌표를 입력하시오: 0\n",
      "x2 좌표를 입력하시오: 3\n",
      "y2 좌표를 입력하시오: 4\n",
      "직각삼각형의 면적은 6.0\n"
     ]
    }
   ],
   "source": [
    "#4.11\n",
    "\n",
    "x1=int(input('x1 좌표를 입력하시오: '))\n",
    "y1=int(input('y1 좌표를 입력하시오: '))\n",
    "x2=int(input('x2 좌표를 입력하시오: '))\n",
    "y2=int(input('y2 좌표를 입력하시오: '))\n",
    "\n",
    "x2>x1\n",
    "y2>y1\n",
    "\n",
    "def area(x1,y1,x2,y2):\n",
    "    r_area=((x2-x1)*(y2-y1))/2\n",
    "    return r_area\n",
    "\n",
    "r_area=area(x1,y1,x2,y2)\n",
    "\n",
    "print('직각삼각형의 면적은',r_area)"
   ]
  },
  {
   "cell_type": "code",
   "execution_count": 40,
   "id": "b625ed7d",
   "metadata": {},
   "outputs": [
    {
     "name": "stdout",
     "output_type": "stream",
     "text": [
      "[3, 4, 5, 45, 56]\n",
      "[3, 4, 5, 6, 7, 8, 9]\n"
     ]
    }
   ],
   "source": [
    "#4.15\n",
    "\n",
    "def my_sort(*nums):\n",
    "    my_sort=[]\n",
    "    for i in nums:\n",
    "        my_sort.append(i)\n",
    "        my_sort.sort()\n",
    "    return my_sort\n",
    "\n",
    "print(my_sort(45,3,4,56,5))\n",
    "print(my_sort(9,8,7,6,5,4,3))"
   ]
  },
  {
   "cell_type": "code",
   "execution_count": 44,
   "id": "d0714a35",
   "metadata": {},
   "outputs": [
    {
     "name": "stdout",
     "output_type": "stream",
     "text": [
      "10 에서 20 까지의 정수의 합:  165\n",
      "40 에서 100 까지의 정수의 합:  4270\n"
     ]
    }
   ],
   "source": [
    "#4.17\n",
    "\n",
    "def sum_range(n1,n2):\n",
    "    sum=0\n",
    "    for i in range(n1,n2+1):\n",
    "        sum += i\n",
    "    return sum\n",
    "\n",
    "#sum=sum_range(n1,n2)\n",
    "n1=10\n",
    "n2=20\n",
    "print(n1,'에서',n2,'까지의 정수의 합: ',sum_range(n1,n2))\n",
    "\n",
    "n1=40\n",
    "n2=100\n",
    "print(n1,'에서',n2,'까지의 정수의 합: ',sum_range(n1,n2))\n"
   ]
  },
  {
   "cell_type": "code",
   "execution_count": 49,
   "id": "bc40807d",
   "metadata": {},
   "outputs": [
    {
     "name": "stdout",
     "output_type": "stream",
     "text": [
      "fibo(n)의 n을 입력하세요: 3\n",
      "fibo( 3 )= 3\n"
     ]
    }
   ],
   "source": [
    "#4.19\n",
    "\n",
    "def fibo(n):\n",
    "    if n <= 1:\n",
    "        return 1\n",
    "    else:\n",
    "        return fibo(n-1)+fibo(n-2)\n",
    "    \n",
    "\n",
    "n=int(input('fibo(n)의 n을 입력하세요: '))\n",
    "print('fibo(',n,')=',fibo(n))"
   ]
  },
  {
   "cell_type": "code",
   "execution_count": 61,
   "id": "f0dbc832",
   "metadata": {},
   "outputs": [
    {
     "name": "stdout",
     "output_type": "stream",
     "text": [
      "주민등록번호 첫 6숫자 형식 입력: 011123\n",
      "2001 년 11 월 23 일\n"
     ]
    }
   ],
   "source": [
    "#4.21\n",
    "\n",
    "num=input('주민등록번호 첫 6숫자 형식 입력: ')\n",
    "\n",
    "yr = num[0:2]\n",
    "mon = num[2:4]\n",
    "day = num[4:6]\n",
    "\n",
    "if num[0:2] < str(50):\n",
    "    yr = '20' + yr\n",
    "else:\n",
    "    yr = '19' + yr\n",
    "    \n",
    "print(yr,'년',mon,'월',day,'일')\n",
    "#570312"
   ]
  },
  {
   "cell_type": "code",
   "execution_count": 4,
   "id": "cc57ee01",
   "metadata": {},
   "outputs": [
    {
     "name": "stdout",
     "output_type": "stream",
     "text": [
      "반지름을 입력하시오: 4\n",
      "넓이: 50.24 둘레:  25.12\n",
      "반지름을 입력하시오: 6\n"
     ]
    },
    {
     "ename": "TypeError",
     "evalue": "'r' is an invalid keyword argument for print()",
     "output_type": "error",
     "traceback": [
      "\u001b[0;31m---------------------------------------------------------------------------\u001b[0m",
      "\u001b[0;31mTypeError\u001b[0m                                 Traceback (most recent call last)",
      "Cell \u001b[0;32mIn[4], line 21\u001b[0m\n\u001b[1;32m     19\u001b[0m \u001b[38;5;28;01mif\u001b[39;00m r \u001b[38;5;241m>\u001b[39m \u001b[38;5;241m0\u001b[39m:\n\u001b[1;32m     20\u001b[0m     \u001b[38;5;28mprint\u001b[39m(\u001b[38;5;124m'\u001b[39m\u001b[38;5;124m넓이:\u001b[39m\u001b[38;5;124m'\u001b[39m,area,\u001b[38;5;124m'\u001b[39m\u001b[38;5;124m둘레: \u001b[39m\u001b[38;5;124m'\u001b[39m,circum)\n\u001b[0;32m---> 21\u001b[0m     \u001b[38;5;28;43mprint\u001b[39;49m\u001b[43m(\u001b[49m\u001b[43mr\u001b[49m\u001b[43m \u001b[49m\u001b[38;5;241;43m=\u001b[39;49m\u001b[43m \u001b[49m\u001b[38;5;28;43mint\u001b[39;49m\u001b[43m(\u001b[49m\u001b[38;5;28;43minput\u001b[39;49m\u001b[43m(\u001b[49m\u001b[38;5;124;43m'\u001b[39;49m\u001b[38;5;124;43m반지름을 입력하시오: \u001b[39;49m\u001b[38;5;124;43m'\u001b[39;49m\u001b[43m)\u001b[49m\u001b[43m)\u001b[49m\u001b[43m)\u001b[49m\n\u001b[1;32m     22\u001b[0m     \u001b[38;5;28;01mcontinue\u001b[39;00m\n\u001b[1;32m     23\u001b[0m \u001b[38;5;28;01melse\u001b[39;00m:\n",
      "\u001b[0;31mTypeError\u001b[0m: 'r' is an invalid keyword argument for print()"
     ]
    }
   ],
   "source": [
    "#4.23 **\n",
    "\n",
    "#r = int(input('반지름을 입력하시오: '))\n",
    "pi=3.14\n",
    "\n",
    "def area_and_circumference(r):\n",
    "    if r > 0:\n",
    "        area = pi*(r**2)\n",
    "        circum = 2*pi*r\n",
    "        return area, circum\n",
    "    else:\n",
    "        print('프로그램을 종료합니다.')\n",
    "        \n",
    "r = int(input('반지름을 입력하시오: '))\n",
    "\n",
    "area, circum = area_and_circumference(r)\n",
    "\n",
    "while r>0:\n",
    "    if r > 0:\n",
    "        print('넓이:',area,'둘레: ',circum)\n",
    "        print(r = int(input('반지름을 입력하시오: ')))\n",
    "    else:\n",
    "        print('프로그램을 종료합니다.')\n",
    "        break"
   ]
  },
  {
   "cell_type": "code",
   "execution_count": null,
   "id": "3b518d8a",
   "metadata": {},
   "outputs": [],
   "source": [
    "#4.27\n",
    "\n",
    "n = int(input('1보다 작고 0보다 큰 소수를 입력하세요: '))\n",
    "\n",
    "def unit_fraction(frac):\n",
    "    "
   ]
  },
  {
   "cell_type": "code",
   "execution_count": null,
   "id": "863e8cf6",
   "metadata": {},
   "outputs": [],
   "source": []
  }
 ],
 "metadata": {
  "kernelspec": {
   "display_name": "Python 3 (ipykernel)",
   "language": "python",
   "name": "python3"
  },
  "language_info": {
   "codemirror_mode": {
    "name": "ipython",
    "version": 3
   },
   "file_extension": ".py",
   "mimetype": "text/x-python",
   "name": "python",
   "nbconvert_exporter": "python",
   "pygments_lexer": "ipython3",
   "version": "3.9.13"
  }
 },
 "nbformat": 4,
 "nbformat_minor": 5
}
