{
 "cells": [
  {
   "cell_type": "code",
   "execution_count": 3,
   "id": "a86aee9e",
   "metadata": {},
   "outputs": [
    {
     "name": "stdout",
     "output_type": "stream",
     "text": [
      "세 복권번호를 입력하시오: 1 3 9\n",
      "상금 1천만 원\n"
     ]
    }
   ],
   "source": [
    "#3.11\n",
    "\n",
    "a,b,c = map(int,input(\"세 복권번호를 입력하시오: \").split())\n",
    "\n",
    "if a==2 and b==3 and c==9:\n",
    "    print(\"상금 1억 원 !!! \")\n",
    "elif a==2 and b==3 and c!=9:\n",
    "    print(\"상금 1천만 원\")\n",
    "elif a==2 and b!=3 and c==9:\n",
    "    print(\"상금 1천만 원\")\n",
    "elif a!=2 and b==3 and c==9:\n",
    "    print(\"상금 1천만 원\")\n",
    "elif a==2 and b!=3 and c!=9:\n",
    "    print(\"상금 1만 원\")\n",
    "elif a!=2 and b==3 and c!=9:\n",
    "    print(\"상금 1만 원\")\n",
    "elif a!=2 and b!=3 and c==9:\n",
    "    print(\"상금 1만 원\")\n",
    "else:\n",
    "    print(\"다음 기회에...\")"
   ]
  },
  {
   "cell_type": "code",
   "execution_count": 5,
   "id": "6dc9f2f2",
   "metadata": {},
   "outputs": [
    {
     "name": "stdout",
     "output_type": "stream",
     "text": [
      "점의 좌표 x, y를 입력하시오: 5 6\n",
      "원의 내부에 있음\n"
     ]
    }
   ],
   "source": [
    "#3.13\n",
    "\n",
    "x, y = map(int,input(\"점의 좌표 x, y를 입력하시오: \").split())\n",
    "\n",
    "z = ((x-3)**1/2 + (y-4)**1/2) **1/2\n",
    "\n",
    "if z > 10:\n",
    "    print(\"원의 외부에 있음\")\n",
    "else:\n",
    "    print(\"원의 내부에 있음\")"
   ]
  },
  {
   "cell_type": "code",
   "execution_count": 22,
   "id": "ac6a242c",
   "metadata": {},
   "outputs": [
    {
     "name": "stdout",
     "output_type": "stream",
     "text": [
      "2 * 1 = 2\n",
      "2 * 2 = 4\n",
      "2 * 3 = 6\n",
      "2 * 4 = 8\n",
      "2 * 5 = 10\n",
      "2 * 6 = 12\n",
      "2 * 7 = 14\n",
      "2 * 8 = 16\n",
      "2 * 9 = 18\n"
     ]
    }
   ],
   "source": [
    "#3.15-1\n",
    "total=0\n",
    "i = i+1\n",
    "\n",
    "for i in range(1,10):\n",
    "    total=2*i\n",
    "    print('2 *',i,'=',total)"
   ]
  },
  {
   "cell_type": "code",
   "execution_count": null,
   "id": "42c59f52",
   "metadata": {},
   "outputs": [],
   "source": []
  },
  {
   "cell_type": "code",
   "execution_count": 29,
   "id": "c2d52d1c",
   "metadata": {},
   "outputs": [
    {
     "name": "stdout",
     "output_type": "stream",
     "text": [
      "맛나 식당에 오신 것을 환영합니다. 메뉴는 다음과 같습니다.\n",
      "- 햄버거(입력 b)\n",
      "- 치킨(입력 c)\n",
      "- 피자(입력 p)\n",
      "메뉴를 선택하세요(알파벳 b, c, p 입력): x\n"
     ]
    },
    {
     "ename": "KeyboardInterrupt",
     "evalue": "Interrupted by user",
     "output_type": "error",
     "traceback": [
      "\u001b[0;31m---------------------------------------------------------------------------\u001b[0m",
      "\u001b[0;31mKeyboardInterrupt\u001b[0m                         Traceback (most recent call last)",
      "\u001b[0;32m/var/folders/9z/zv5mhryx2qxfy64nw4zdl5rr0000gn/T/ipykernel_89133/485766277.py\u001b[0m in \u001b[0;36m<module>\u001b[0;34m\u001b[0m\n\u001b[1;32m     19\u001b[0m     \u001b[0mprint\u001b[0m\u001b[0;34m(\u001b[0m\u001b[0;34m\"피자를 선택하였습니다\"\u001b[0m\u001b[0;34m)\u001b[0m\u001b[0;34m\u001b[0m\u001b[0;34m\u001b[0m\u001b[0m\n\u001b[1;32m     20\u001b[0m \u001b[0;32melse\u001b[0m\u001b[0;34m:\u001b[0m\u001b[0;34m\u001b[0m\u001b[0;34m\u001b[0m\u001b[0m\n\u001b[0;32m---> 21\u001b[0;31m     \u001b[0mprint\u001b[0m\u001b[0;34m(\u001b[0m\u001b[0minput\u001b[0m\u001b[0;34m(\u001b[0m\u001b[0;34m\"메뉴를 다시 입력하세요(알파벳 b, c, p 입력): \"\u001b[0m\u001b[0;34m)\u001b[0m\u001b[0;34m)\u001b[0m\u001b[0;34m\u001b[0m\u001b[0;34m\u001b[0m\u001b[0m\n\u001b[0m",
      "\u001b[0;32m~/opt/anaconda3/lib/python3.9/site-packages/ipykernel/kernelbase.py\u001b[0m in \u001b[0;36mraw_input\u001b[0;34m(self, prompt)\u001b[0m\n\u001b[1;32m   1175\u001b[0m                 \u001b[0;34m\"raw_input was called, but this frontend does not support input requests.\"\u001b[0m\u001b[0;34m\u001b[0m\u001b[0;34m\u001b[0m\u001b[0m\n\u001b[1;32m   1176\u001b[0m             )\n\u001b[0;32m-> 1177\u001b[0;31m         return self._input_request(\n\u001b[0m\u001b[1;32m   1178\u001b[0m             \u001b[0mstr\u001b[0m\u001b[0;34m(\u001b[0m\u001b[0mprompt\u001b[0m\u001b[0;34m)\u001b[0m\u001b[0;34m,\u001b[0m\u001b[0;34m\u001b[0m\u001b[0;34m\u001b[0m\u001b[0m\n\u001b[1;32m   1179\u001b[0m             \u001b[0mself\u001b[0m\u001b[0;34m.\u001b[0m\u001b[0m_parent_ident\u001b[0m\u001b[0;34m[\u001b[0m\u001b[0;34m\"shell\"\u001b[0m\u001b[0;34m]\u001b[0m\u001b[0;34m,\u001b[0m\u001b[0;34m\u001b[0m\u001b[0;34m\u001b[0m\u001b[0m\n",
      "\u001b[0;32m~/opt/anaconda3/lib/python3.9/site-packages/ipykernel/kernelbase.py\u001b[0m in \u001b[0;36m_input_request\u001b[0;34m(self, prompt, ident, parent, password)\u001b[0m\n\u001b[1;32m   1217\u001b[0m             \u001b[0;32mexcept\u001b[0m \u001b[0mKeyboardInterrupt\u001b[0m\u001b[0;34m:\u001b[0m\u001b[0;34m\u001b[0m\u001b[0;34m\u001b[0m\u001b[0m\n\u001b[1;32m   1218\u001b[0m                 \u001b[0;31m# re-raise KeyboardInterrupt, to truncate traceback\u001b[0m\u001b[0;34m\u001b[0m\u001b[0;34m\u001b[0m\u001b[0m\n\u001b[0;32m-> 1219\u001b[0;31m                 \u001b[0;32mraise\u001b[0m \u001b[0mKeyboardInterrupt\u001b[0m\u001b[0;34m(\u001b[0m\u001b[0;34m\"Interrupted by user\"\u001b[0m\u001b[0;34m)\u001b[0m \u001b[0;32mfrom\u001b[0m \u001b[0;32mNone\u001b[0m\u001b[0;34m\u001b[0m\u001b[0;34m\u001b[0m\u001b[0m\n\u001b[0m\u001b[1;32m   1220\u001b[0m             \u001b[0;32mexcept\u001b[0m \u001b[0mException\u001b[0m\u001b[0;34m:\u001b[0m\u001b[0;34m\u001b[0m\u001b[0;34m\u001b[0m\u001b[0m\n\u001b[1;32m   1221\u001b[0m                 \u001b[0mself\u001b[0m\u001b[0;34m.\u001b[0m\u001b[0mlog\u001b[0m\u001b[0;34m.\u001b[0m\u001b[0mwarning\u001b[0m\u001b[0;34m(\u001b[0m\u001b[0;34m\"Invalid Message:\"\u001b[0m\u001b[0;34m,\u001b[0m \u001b[0mexc_info\u001b[0m\u001b[0;34m=\u001b[0m\u001b[0;32mTrue\u001b[0m\u001b[0;34m)\u001b[0m\u001b[0;34m\u001b[0m\u001b[0;34m\u001b[0m\u001b[0m\n",
      "\u001b[0;31mKeyboardInterrupt\u001b[0m: Interrupted by user"
     ]
    }
   ],
   "source": [
    "#3.19\n",
    "b=\"b\"\n",
    "c=\"c\"\n",
    "p=\"p\"\n",
    "\n",
    "print(\"맛나 식당에 오신 것을 환영합니다. 메뉴는 다음과 같습니다.\")\n",
    "print(\"- 햄버거(입력 b)\")\n",
    "print(\"- 치킨(입력 c)\")\n",
    "print(\"- 피자(입력 p)\")\n",
    "\n",
    "\n",
    "menu = input(\"메뉴를 선택하세요(알파벳 b, c, p 입력): \")\n",
    "\n",
    "if menu == b:\n",
    "    print(\"햄버거를 선택하였습니다\")\n",
    "elif menu == c:\n",
    "    print(\"치킨을 선택하였습니다\")\n",
    "elif menu == p:\n",
    "    print(\"피자를 선택하였습니다\")\n",
    "else:\n",
    "    print(input(\"메뉴를 다시 입력하세요(알파벳 b, c, p 입력): \"))\n"
   ]
  },
  {
   "cell_type": "code",
   "execution_count": 44,
   "id": "f401d1b6",
   "metadata": {},
   "outputs": [
    {
     "name": "stdout",
     "output_type": "stream",
     "text": [
      "숫자를 입력하세요: 4\n",
      "4 는 소수가 아닙니다\n"
     ]
    }
   ],
   "source": [
    "#3.21\n",
    "\n",
    "n = int(input(\"숫자를 입력하세요: \"))\n",
    "\n",
    "for i in range(2,n):\n",
    "    if n%i ==0:\n",
    "        x=True\n",
    "\n",
    "if x==True:\n",
    "    print(n,\"는 소수가 아닙니다\")\n",
    "else:\n",
    "    print(n,\"는 소수입니다\")"
   ]
  },
  {
   "cell_type": "code",
   "execution_count": 50,
   "id": "1e6c1eb0",
   "metadata": {},
   "outputs": [
    {
     "name": "stdout",
     "output_type": "stream",
     "text": [
      "숫자를 입력하세요: 3\n",
      "14\n"
     ]
    }
   ],
   "source": [
    "#3.23\n",
    "\n",
    "n = int(input(\"숫자를 입력하세요: \"))\n",
    "iend=n\n",
    "result=0\n",
    "\n",
    "for i in range(1,n+1):\n",
    "    result=(i**2)+result\n",
    "\n",
    "print(result)"
   ]
  },
  {
   "cell_type": "code",
   "execution_count": 53,
   "id": "c21a71ff",
   "metadata": {},
   "outputs": [
    {
     "name": "stdout",
     "output_type": "stream",
     "text": [
      "day: 1 달팽이의 위치: 2 미터\n",
      "day: 2 달팽이의 위치: 4 미터\n",
      "day: 3 달팽이의 위치: 6 미터\n",
      "day: 4 달팽이의 위치: 8 미터\n",
      "day: 5 달팽이의 위치: 10 미터\n",
      "day: 6 달팽이의 위치: 12 미터\n",
      "day: 7 달팽이의 위치: 14 미터\n",
      "day: 8 달팽이의 위치: 16 미터\n",
      "day: 9 달팽이의 위치: 18 미터\n",
      "day: 10 달팽이의 위치: 20 미터\n",
      "day: 11 달팽이의 위치: 22 미터\n",
      "day: 12 달팽이의 위치: 24 미터\n",
      "day: 13 달팽이의 위치: 31 미터\n",
      "우물을 탈출하는데 걸린 날은 13 일 입니다!!\n"
     ]
    }
   ],
   "source": [
    "#3.25\n",
    "\n",
    "#하루에 7m를 오르고 밤에 5m 다시 내려옴\n",
    "#pond = 30\n",
    "day=0\n",
    "snail=0\n",
    "\n",
    "while snail<=30:\n",
    "    snail+=7\n",
    "    day+=1\n",
    "    if snail<30:\n",
    "        snail-=5\n",
    "    print(\"day:\", day, \"달팽이의 위치:\",snail,\"미터\")\n",
    "\n",
    "print(\"우물을 탈출하는데 걸린 날은\",day,\"일 입니다!!\")    "
   ]
  },
  {
   "cell_type": "code",
   "execution_count": 91,
   "id": "91e79042",
   "metadata": {},
   "outputs": [
    {
     "name": "stdout",
     "output_type": "stream",
     "text": [
      "세 자리의 암스트롱 수:  153 370 371 407 "
     ]
    }
   ],
   "source": [
    "#3.27\n",
    "#n =int(input(\"세 자리의 암스트롱 수: \"))\n",
    "print(\"세 자리의 암스트롱 수: \",end=\" \")\n",
    "\n",
    "for n in range(100,1000,1):\n",
    "    a=n//100\n",
    "    b=(n%100)//10\n",
    "    c=(n%100)%10\n",
    "    \n",
    "    total = (a**3)+(b**3)+(c**3)\n",
    "\n",
    "    if n == total:\n",
    "        print(n, end=\" \")"
   ]
  },
  {
   "cell_type": "code",
   "execution_count": 115,
   "id": "176230ff",
   "metadata": {},
   "outputs": [
    {
     "name": "stdout",
     "output_type": "stream",
     "text": [
      "충전 또는 사용한 연료를 +/- 기호와 함께 입력하시오: -498\n",
      "현재 탱크양은 2 입니다.\n",
      "경고: 연료가 10% 미만이니 충전하세요!\n"
     ]
    }
   ],
   "source": [
    "#3.29\n",
    "#초기 연료의 양은 500이고 남은 연료가 10%미만이면 경고 출력하고 수행 끝\n",
    "fuel = 500\n",
    "remain = 50\n",
    "\n",
    "while remain>=10:\n",
    "    x = int(input(\"충전 또는 사용한 연료를 +/- 기호와 함께 입력하시오: \"))\n",
    "    fuel = fuel + x\n",
    "    remain = fuel/10\n",
    "    if remain>=10:\n",
    "        print(\"현재 탱크양은\",fuel,\"입니다.\")\n",
    "    else:\n",
    "        print(\"현재 탱크양은\",fuel,\"입니다.\")\n",
    "        print(\"경고: 연료가 10% 미만이니 충전하세요!\")\n",
    "        break"
   ]
  },
  {
   "cell_type": "code",
   "execution_count": 1,
   "id": "7d52a613",
   "metadata": {},
   "outputs": [
    {
     "name": "stdout",
     "output_type": "stream",
     "text": [
      "충전 또는 사용한 연료를 +/- 기호와 함께 입력하시오: -30\n",
      "현재 탱크양은 470 입니다\n",
      "충전 또는 사용한 연료를 +/- 기호와 함께 입력하시오: 400\n",
      "현재 탱크양은 870 입니다\n",
      "충전 또는 사용한 연료를 +/- 기호와 함께 입력하시오: -500\n",
      "현재 탱크양은 370 입니다\n",
      "충전 또는 사용한 연료를 +/- 기호와 함께 입력하시오: -350\n",
      "현재 탱크양은 20 입니다\n",
      "경고: 연료가 10% 미만이니 충전하세요!\n"
     ]
    }
   ],
   "source": [
    "#3.29-format 함수 사용하는 법\n",
    "\n",
    "fuel = 500\n",
    "while fuel >= 50:\n",
    "    x = int(input(\"충전 또는 사용한 연료를 +/- 기호와 함께 입력하시오: \"))\n",
    "    fuel += x\n",
    "    print(\"현재 탱크양은\",fuel,\"입니다\".format(fuel))\n",
    "\n",
    "print(\"경고: 연료가 10% 미만이니 충전하세요!\")"
   ]
  },
  {
   "cell_type": "code",
   "execution_count": null,
   "id": "7d71d456",
   "metadata": {},
   "outputs": [],
   "source": [
    "#3.31\n",
    "\n",
    "for i in range(1, 20001):\n",
    "    s = 0\n",
    "    ss = 0\n",
    "    for j in range(1,i):\n",
    "        if i % j == 0:\n",
    "            s += j\n",
    "    for k in range(1,s):\n",
    "        "
   ]
  }
 ],
 "metadata": {
  "kernelspec": {
   "display_name": "Python 3 (ipykernel)",
   "language": "python",
   "name": "python3"
  },
  "language_info": {
   "codemirror_mode": {
    "name": "ipython",
    "version": 3
   },
   "file_extension": ".py",
   "mimetype": "text/x-python",
   "name": "python",
   "nbconvert_exporter": "python",
   "pygments_lexer": "ipython3",
   "version": "3.9.13"
  }
 },
 "nbformat": 4,
 "nbformat_minor": 5
}
