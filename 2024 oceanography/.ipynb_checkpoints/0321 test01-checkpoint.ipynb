{
 "cells": [
  {
   "cell_type": "code",
   "execution_count": 6,
   "id": "758e2346",
   "metadata": {},
   "outputs": [
    {
     "name": "stdout",
     "output_type": "stream",
     "text": [
      "11\n"
     ]
    }
   ],
   "source": [
    "def plus(a,b):\n",
    "    c=a+b\n",
    "    return c\n",
    "#d = plus(3,4)\n",
    "d=plus(4,7)\n",
    "print(d)"
   ]
  },
  {
   "cell_type": "code",
   "execution_count": 12,
   "id": "008159ea",
   "metadata": {
    "scrolled": true
   },
   "outputs": [
    {
     "name": "stdout",
     "output_type": "stream",
     "text": [
      "21\n"
     ]
    }
   ],
   "source": [
    "def hyacsu(a):#정수의진약수구하는거\n",
    "    hap=0\n",
    "    for m in range(1,a):\n",
    "        if a%m == 0:\n",
    "            hap += m\n",
    "    return hap\n",
    "d=hyacsu(18)\n",
    "print(d)"
   ]
  },
  {
   "cell_type": "code",
   "execution_count": 22,
   "id": "499244f7",
   "metadata": {},
   "outputs": [
    {
     "name": "stdout",
     "output_type": "stream",
     "text": [
      "반지름 10 인 원의 면적은 314.1592653589793 원의 둘레는 62.83185307179586\n"
     ]
    }
   ],
   "source": [
    "import numpy as np\n",
    "\n",
    "#radius = 10\n",
    "def circle(radius):\n",
    "    area = np.pi * (radius**2)\n",
    "    circum = 2 * np.pi * radius\n",
    "    return area, circum\n",
    "\n",
    "area, circum = circle(10)\n",
    "\n",
    "print(\"반지름\",radius,\"인 원의 면적은\",area,\"원의 둘레는\",circum)"
   ]
  },
  {
   "cell_type": "code",
   "execution_count": 23,
   "id": "9aa94f3a",
   "metadata": {},
   "outputs": [
    {
     "name": "stdout",
     "output_type": "stream",
     "text": [
      "반지름 10 인 원의 면적은 314.1592653589793 원의 둘레는 62.83185307179586\n"
     ]
    }
   ],
   "source": [
    "import numpy as np\n",
    "\n",
    "#radius = 10\n",
    "def circle(radius):\n",
    "    return np.pi * (radius**2), 2 * np.pi * radius\n",
    "\n",
    "area, circum = circle(10)\n",
    "\n",
    "print(\"반지름\",radius,\"인 원의 면적은\",area,\"원의 둘레는\",circum)"
   ]
  },
  {
   "cell_type": "code",
   "execution_count": 35,
   "id": "ad9adf13",
   "metadata": {},
   "outputs": [
    {
     "name": "stdout",
     "output_type": "stream",
     "text": [
      "2 개의 인자 (3, 0.75)\n",
      "합계:  3 평균:  0.75\n"
     ]
    }
   ],
   "source": [
    "def sum_nums(*numbers):\n",
    "    result=0\n",
    "    for n in numbers:\n",
    "        result += n\n",
    "        return result, result/len(numbers)\n",
    "    \n",
    "a,b=sum_nums(3,5,8,2)\n",
    "\n",
    "print(len(sum_nums(3,5,8,2)),\"개의 인자\",sum_nums(3,5,8,2))\n",
    "print(\"합계: \",a,\"평균: \",b)"
   ]
  },
  {
   "cell_type": "code",
   "execution_count": null,
   "id": "095c0681",
   "metadata": {
    "scrolled": true
   },
   "outputs": [],
   "source": []
  },
  {
   "cell_type": "code",
   "execution_count": null,
   "id": "1de3543e",
   "metadata": {},
   "outputs": [],
   "source": []
  }
 ],
 "metadata": {
  "kernelspec": {
   "display_name": "Python 3 (ipykernel)",
   "language": "python",
   "name": "python3"
  },
  "language_info": {
   "codemirror_mode": {
    "name": "ipython",
    "version": 3
   },
   "file_extension": ".py",
   "mimetype": "text/x-python",
   "name": "python",
   "nbconvert_exporter": "python",
   "pygments_lexer": "ipython3",
   "version": "3.9.13"
  }
 },
 "nbformat": 4,
 "nbformat_minor": 5
}
