{
 "cells": [
  {
   "cell_type": "code",
   "execution_count": 4,
   "id": "39e7096f",
   "metadata": {},
   "outputs": [
    {
     "ename": "NameError",
     "evalue": "name 'self' is not defined",
     "output_type": "error",
     "traceback": [
      "\u001b[0;31m---------------------------------------------------------------------------\u001b[0m",
      "\u001b[0;31mNameError\u001b[0m                                 Traceback (most recent call last)",
      "Cell \u001b[0;32mIn[4], line 15\u001b[0m\n\u001b[1;32m     12\u001b[0m     \u001b[38;5;28;01mdef\u001b[39;00m \u001b[38;5;21m__truediv__\u001b[39m(\u001b[38;5;28mself\u001b[39m,b):\n\u001b[1;32m     13\u001b[0m         \u001b[38;5;28;01mreturn\u001b[39;00m comx((\u001b[38;5;28mself\u001b[39m\u001b[38;5;241m.\u001b[39mreal\u001b[38;5;241m*\u001b[39mb\u001b[38;5;241m.\u001b[39mreal \u001b[38;5;241m+\u001b[39m \u001b[38;5;28mself\u001b[39m\u001b[38;5;241m.\u001b[39mimag\u001b[38;5;241m*\u001b[39mb\u001b[38;5;241m.\u001b[39mimag)\u001b[38;5;241m/\u001b[39m((b\u001b[38;5;241m.\u001b[39mreal\u001b[38;5;241m*\u001b[39m\u001b[38;5;241m*\u001b[39m\u001b[38;5;241m2\u001b[39m)\u001b[38;5;241m+\u001b[39m(b\u001b[38;5;241m.\u001b[39mimag\u001b[38;5;241m*\u001b[39m\u001b[38;5;241m*\u001b[39m\u001b[38;5;241m2\u001b[39m))\u001b[38;5;241m+\u001b[39m((b\u001b[38;5;241m.\u001b[39mimag\u001b[38;5;241m*\u001b[39mb\u001b[38;5;241m.\u001b[39mreal)\u001b[38;5;241m-\u001b[39m(\u001b[38;5;28mself\u001b[39m\u001b[38;5;241m.\u001b[39mreal\u001b[38;5;241m*\u001b[39mb\u001b[38;5;241m.\u001b[39mimag))\u001b[38;5;241m/\u001b[39m((b\u001b[38;5;241m.\u001b[39mreal\u001b[38;5;241m*\u001b[39m\u001b[38;5;241m*\u001b[39m\u001b[38;5;241m2\u001b[39m)\u001b[38;5;241m+\u001b[39m(b\u001b[38;5;241m.\u001b[39mimag\u001b[38;5;241m*\u001b[39m\u001b[38;5;241m*\u001b[39m\u001b[38;5;241m2\u001b[39m)))\n\u001b[0;32m---> 15\u001b[0m add1 \u001b[38;5;241m=\u001b[39m comx(\u001b[38;5;28;43mself\u001b[39;49m,b)    \n\u001b[1;32m     17\u001b[0m a \u001b[38;5;241m=\u001b[39m comx(\u001b[38;5;241m1\u001b[39m,\u001b[38;5;241m2\u001b[39m)\n\u001b[1;32m     18\u001b[0m \u001b[38;5;28mprint\u001b[39m(add1)\n",
      "\u001b[0;31mNameError\u001b[0m: name 'self' is not defined"
     ]
    }
   ],
   "source": [
    "class comx:\n",
    "    def __init__(self,x,y):\n",
    "        self.real = x   #실수부분\n",
    "        self.imag = y   #허수부분\n",
    "    def __add__(self,b):\n",
    "        add1 = comx(self.real+b.real,self.imag+b.imag)\n",
    "        return add1\n",
    "    def __sub__(self,b):\n",
    "        return comx(self.real-b.real,self.imag-b.imag)\n",
    "    def __mul__(self,b):\n",
    "        return comx(self.real*b.real + self.real*b.imag + self.imag*b.real + self.imag*b.imag)\n",
    "    def __truediv__(self,b):\n",
    "        return comx((self.real*b.real + self.imag*b.imag)/((b.real**2)+(b.imag**2))+((b.imag*b.real)-(self.real*b.imag))/((b.real**2)+(b.imag**2)))\n",
    "\n",
    "add1 = comx(self,b)    \n",
    "\n",
    "a = comx(1,2)\n",
    "print(add1)"
   ]
  },
  {
   "cell_type": "code",
   "execution_count": null,
   "id": "d8f7d41b",
   "metadata": {},
   "outputs": [],
   "source": []
  }
 ],
 "metadata": {
  "kernelspec": {
   "display_name": "Python 3 (ipykernel)",
   "language": "python",
   "name": "python3"
  },
  "language_info": {
   "codemirror_mode": {
    "name": "ipython",
    "version": 3
   },
   "file_extension": ".py",
   "mimetype": "text/x-python",
   "name": "python",
   "nbconvert_exporter": "python",
   "pygments_lexer": "ipython3",
   "version": "3.9.13"
  }
 },
 "nbformat": 4,
 "nbformat_minor": 5
}
